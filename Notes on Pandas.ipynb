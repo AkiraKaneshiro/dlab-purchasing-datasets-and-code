{
 "metadata": {
  "name": "",
  "signature": "sha256:15d15b32da603ae210750f591147336f441c996272b733a10f81e2f2ee8ba8e6"
 },
 "nbformat": 3,
 "nbformat_minor": 0,
 "worksheets": [
  {
   "cells": [
    {
     "cell_type": "markdown",
     "metadata": {},
     "source": [
      "## Null / Missing Data\n",
      "\n",
      "Beginning users can easily run into trouble with the way pandas deals with missing data. Consider the following."
     ]
    },
    {
     "cell_type": "code",
     "collapsed": false,
     "input": [
      "import pandas as pd"
     ],
     "language": "python",
     "metadata": {},
     "outputs": [],
     "prompt_number": 1
    },
    {
     "cell_type": "code",
     "collapsed": false,
     "input": [
      "UCB_Spend=pd.read_csv('UCB_Spend.csv')"
     ],
     "language": "python",
     "metadata": {},
     "outputs": [
      {
       "output_type": "stream",
       "stream": "stderr",
       "text": [
        "/opt/anaconda/lib/python2.7/site-packages/pandas/io/parsers.py:1070: DtypeWarning: Columns (59) have mixed types. Specify dtype option on import or set low_memory=False.\n",
        "  data = self._reader.read(nrows)\n"
       ]
      }
     ],
     "prompt_number": 2
    },
    {
     "cell_type": "markdown",
     "metadata": {},
     "source": [
      "So what's that error message about? There are two ways we can go about this. The first is to use some methods that describe the contents of our DataFrame."
     ]
    },
    {
     "cell_type": "code",
     "collapsed": false,
     "input": [
      "# How many rows do we have?\n",
      "len(UCB_Spend)"
     ],
     "language": "python",
     "metadata": {},
     "outputs": [
      {
       "metadata": {},
       "output_type": "pyout",
       "prompt_number": 6,
       "text": [
        "7615"
       ]
      }
     ],
     "prompt_number": 6
    },
    {
     "cell_type": "code",
     "collapsed": false,
     "input": [
      "# And how many actual (i.e., not blank) entries do we have in column 59?\n",
      "# We use `.iloc`, which allows us to specify integer locations.\n",
      "# Note, we get the column name here too!\n",
      "UCB_Spend.iloc[:,59].describe()"
     ],
     "language": "python",
     "metadata": {},
     "outputs": [
      {
       "metadata": {},
       "output_type": "pyout",
       "prompt_number": 5,
       "text": [
        "count                        2\n",
        "unique                       2\n",
        "top       Berkeley-NET 30% off\n",
        "freq                         1\n",
        "Name: Special Pricing Code, dtype: object"
       ]
      }
     ],
     "prompt_number": 5
    },
    {
     "cell_type": "markdown",
     "metadata": {},
     "source": [
      "Another way is to know that pandas uses null values (specifically, numpy.nan) to represent missing values. These are technically floating point numbers. Since the actual entries here are strings, the types are mixed - techically, the `dtype` is `object`. **Everything** in Python is an `object`, so this is another way to say that **anything** can go in this column.\n",
      "\n",
      "Note that `object` columns lose a lot of the performance of tabular / grid / array libraries. But, they allow you to keep working with the same container type. Here, we can still stick mixed data into a `DataFrame` column.\n",
      "\n",
      "Above, we saw that column 59 has only 2 non-null entries. We could have pulled these out directly:"
     ]
    },
    {
     "cell_type": "code",
     "collapsed": false,
     "input": [
      "badcol = UCB_Spend.iloc[:,59]\n",
      "# Pull out columns where the value is not null (i.e., NaN).\n",
      "# The `~` operator does elementwise negation.\n",
      "# Pandas objects generally provide an `.isnull()` method. Use this instead of testing directly that the item is NaN!\n",
      "badcol[~badcol.isnull()]"
     ],
     "language": "python",
     "metadata": {},
     "outputs": [
      {
       "metadata": {},
       "output_type": "pyout",
       "prompt_number": 3,
       "text": [
        "392             SA-00000369\n",
        "394    Berkeley-NET 30% off\n",
        "Name: Special Pricing Code, dtype: object"
       ]
      }
     ],
     "prompt_number": 3
    },
    {
     "cell_type": "markdown",
     "metadata": {},
     "source": [
      "You can see that the index for these items is bundled with the data from those entries. We can thus easily check those rows (by default the html / notebook representation will only have the first few columns):"
     ]
    },
    {
     "cell_type": "code",
     "collapsed": false,
     "input": [
      "# Note that we're using \"label\" based location now (`.loc`), as that's what is printed with a pandas object.\n",
      "# In this particular case, the integer position and the \"label\" in the initial `DataFrame` are the same.\n",
      "# But this is often not the case! For example, above we got labels 392 and 394, which refer to the *original* `DataFrame`.\n",
      "# But there, the integer positions are 0 and 1!\n",
      "UCB_Spend.loc[[392,394]]"
     ],
     "language": "python",
     "metadata": {},
     "outputs": [
      {
       "html": [
        "<div style=\"max-height:1000px;max-width:1500px;overflow:auto;\">\n",
        "<table border=\"1\" class=\"dataframe\">\n",
        "  <thead>\n",
        "    <tr style=\"text-align: right;\">\n",
        "      <th></th>\n",
        "      <th>PO ID</th>\n",
        "      <th>PO #</th>\n",
        "      <th>Creation Date</th>\n",
        "      <th>Original Revision Date</th>\n",
        "      <th>Last Revision Date</th>\n",
        "      <th>Last Distribution Date</th>\n",
        "      <th>Workflow Completion Date</th>\n",
        "      <th>PO Closed Date</th>\n",
        "      <th>Supplier ID</th>\n",
        "      <th>Supplier Name</th>\n",
        "      <th>BFS Supplier Number</th>\n",
        "      <th>Supplier Preference</th>\n",
        "      <th>Suppl-Cust Acct #</th>\n",
        "      <th>Cart Line ID</th>\n",
        "      <th>PO Line ID</th>\n",
        "      <th>PO Line #</th>\n",
        "      <th>Item Type</th>\n",
        "      <th>Spot Buy Flag</th>\n",
        "      <th>Form Type</th>\n",
        "      <th>SKU/Catalog #</th>\n",
        "      <th></th>\n",
        "    </tr>\n",
        "  </thead>\n",
        "  <tbody>\n",
        "    <tr>\n",
        "      <th>392</th>\n",
        "      <td> 38418184</td>\n",
        "      <td> BB00368958</td>\n",
        "      <td> 5/16/2014</td>\n",
        "      <td> 5/16/2014</td>\n",
        "      <td> 5/16/2014</td>\n",
        "      <td> 5/16/2014</td>\n",
        "      <td> 5/16/2014</td>\n",
        "      <td> NaN</td>\n",
        "      <td> 14033566</td>\n",
        "      <td> EBIOSCIENCE INC</td>\n",
        "      <td> 0000484327</td>\n",
        "      <td>  3</td>\n",
        "      <td>       4342</td>\n",
        "      <td> 185846330</td>\n",
        "      <td> 130604076</td>\n",
        "      <td> 1</td>\n",
        "      <td> NonCatalog Product</td>\n",
        "      <td> F</td>\n",
        "      <td> NaN</td>\n",
        "      <td> 56-0041-82</td>\n",
        "      <td>...</td>\n",
        "    </tr>\n",
        "    <tr>\n",
        "      <th>394</th>\n",
        "      <td> 38418282</td>\n",
        "      <td> BB00368960</td>\n",
        "      <td> 5/16/2014</td>\n",
        "      <td> 5/16/2014</td>\n",
        "      <td> 5/16/2014</td>\n",
        "      <td> 5/16/2014</td>\n",
        "      <td> 5/16/2014</td>\n",
        "      <td> NaN</td>\n",
        "      <td> 14037819</td>\n",
        "      <td>       BIOLEGEND</td>\n",
        "      <td> 0000618931</td>\n",
        "      <td>NaN</td>\n",
        "      <td> LSA 102778</td>\n",
        "      <td> 185844848</td>\n",
        "      <td> 130604310</td>\n",
        "      <td> 1</td>\n",
        "      <td> NonCatalog Product</td>\n",
        "      <td> F</td>\n",
        "      <td> NaN</td>\n",
        "      <td>     127814</td>\n",
        "      <td>...</td>\n",
        "    </tr>\n",
        "  </tbody>\n",
        "</table>\n",
        "<p>2 rows \u00d7 141 columns</p>\n",
        "</div>"
       ],
       "metadata": {},
       "output_type": "pyout",
       "prompt_number": 9,
       "text": [
        "        PO ID        PO # Creation Date Original Revision Date  \\\n",
        "392  38418184  BB00368958     5/16/2014              5/16/2014   \n",
        "394  38418282  BB00368960     5/16/2014              5/16/2014   \n",
        "\n",
        "    Last Revision Date Last Distribution Date Workflow Completion Date  \\\n",
        "392          5/16/2014              5/16/2014                5/16/2014   \n",
        "394          5/16/2014              5/16/2014                5/16/2014   \n",
        "\n",
        "    PO Closed Date  Supplier ID    Supplier Name BFS Supplier Number  \\\n",
        "392            NaN     14033566  EBIOSCIENCE INC          0000484327   \n",
        "394            NaN     14037819        BIOLEGEND          0000618931   \n",
        "\n",
        "     Supplier Preference Suppl-Cust Acct #  Cart Line ID  PO Line ID  \\\n",
        "392                    3              4342     185846330   130604076   \n",
        "394                  NaN        LSA 102778     185844848   130604310   \n",
        "\n",
        "     PO Line #           Item Type Spot Buy Flag Form Type SKU/Catalog #      \n",
        "392          1  NonCatalog Product             F       NaN    56-0041-82 ...  \n",
        "394          1  NonCatalog Product             F       NaN        127814 ...  \n",
        "\n",
        "[2 rows x 141 columns]"
       ]
      }
     ],
     "prompt_number": 9
    },
    {
     "cell_type": "code",
     "collapsed": false,
     "input": [],
     "language": "python",
     "metadata": {},
     "outputs": []
    }
   ],
   "metadata": {}
  }
 ]
}