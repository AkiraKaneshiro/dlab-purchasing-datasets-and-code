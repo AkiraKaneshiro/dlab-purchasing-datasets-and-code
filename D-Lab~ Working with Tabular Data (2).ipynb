{
 "metadata": {
  "name": ""
 },
 "nbformat": 3,
 "nbformat_minor": 0,
 "worksheets": [
  {
   "cells": [
    {
     "cell_type": "markdown",
     "metadata": {},
     "source": [
      "<center><h1><Font Face= 'Cambria Math'><Font Color= Navy> Working with the Spend Data from several UC's </h2>"
     ]
    },
    {
     "cell_type": "markdown",
     "metadata": {},
     "source": [
      "<b><Font Face= 'Cambria Math'> <Font Size =4> Python and PANDAS are great tools for working with tabular data! "
     ]
    },
    {
     "cell_type": "markdown",
     "metadata": {},
     "source": [
      "<FONT SIZE=4><Font Face ='Cambria Math'><OL TYPE=''>Benefits of Python and Pandas for my work and using tabular data in general:\n",
      "<Font Face='Cambria Math'><Font Size=4>\n",
      "<OL Type='square'>\n",
      "<LI> Has ready to use built in functions \n",
      "<LI>Able to handle large amounts of data, especially compared to Excel!\n",
      "<LI>Easily able to call the data that you want,\n",
      "<p>i.e a column by its title\n",
      "<LI>Able to manipulate large amounts of data quickly\n",
      "<LI> Several modules available for a variety of analysis \n",
      "<OL>\n",
      "  <LI> Sklearn,  StatsModels,  Numpy,  etc\n",
      "</OL>\n"
     ]
    },
    {
     "cell_type": "markdown",
     "metadata": {},
     "source": [
      "<h2><Font Face='Cambria Math'> Example: Working with UC Berkeley, SF, Irvine, Riverside and San Diego Spend data</h2>\n",
      "<Font Size=4>What we will do:\n",
      "\n",
      "<OL>\n",
      "<LI> Upload the data\n",
      "<LI>Clean it up\n",
      "<LI>Add a column describing each school\n",
      "<LI>Combine the data\n",
      "<LI>Filter the data\n",
      "<LI>Pivot Tables, Calculations, More analysis!\n"
     ]
    },
    {
     "cell_type": "markdown",
     "metadata": {},
     "source": [
      "<b><center><Font Face='Cambria Math'><h2> Let's look at what some of the UC campuses purchased in May 2013"
     ]
    },
    {
     "cell_type": "heading",
     "level": 4,
     "metadata": {},
     "source": [
      "<Font Face='Cambria Math'><Font Size=4>1. Upload the Spend data from all 5 campuses"
     ]
    },
    {
     "cell_type": "code",
     "collapsed": false,
     "input": [
      "#import the modules you need\n",
      "import pandas as pd\n",
      "import csv\n",
      "from pandas import DataFrame\n"
     ],
     "language": "python",
     "metadata": {},
     "outputs": [],
     "prompt_number": 7
    },
    {
     "cell_type": "code",
     "collapsed": false,
     "input": [
      "##use pd.read_csv to call in my data \n",
      "UCB_Spend=pd.read_csv('UCB_Spend.csv')\n",
      "UCSF_Spend=pd.read_csv('UCSF_Spend.csv')\n",
      "UCSD_Spend=pd.read_csv('UCSF_Spend.csv')\n",
      "UCI_Spend=pd.read_csv('UCI_Spend.csv')\n",
      "UCR_Spend=pd.read_csv('UCR_Spend.csv')"
     ],
     "language": "python",
     "metadata": {},
     "outputs": [],
     "prompt_number": 8
    },
    {
     "cell_type": "heading",
     "level": 4,
     "metadata": {},
     "source": [
      "<Font Face='Cambria Math'><Font Size=4>2. Clean up the data "
     ]
    },
    {
     "cell_type": "code",
     "collapsed": false,
     "input": [
      "#Change the Prices of products to floats, since they are currently objects\n",
      "UCSF_Spend['Extended Price'].describe()"
     ],
     "language": "python",
     "metadata": {},
     "outputs": [
      {
       "metadata": {},
       "output_type": "pyout",
       "prompt_number": 9,
       "text": [
        "count       7313\n",
        "unique      4861\n",
        "top       200.76\n",
        "freq          30\n",
        "dtype: object"
       ]
      }
     ],
     "prompt_number": 9
    },
    {
     "cell_type": "code",
     "collapsed": false,
     "input": [
      "# Use .str.replace() command to find and replace in each cell of your series\n",
      "\n",
      "# WARNING - in older versions of pandas (at least through 0.13.1), multi-character patterns are \n",
      "# always converted to \"regular expressions\". If your results aren't working as expected, this is likely why!\n",
      "# We'll see examples of regular expressions below.\n",
      "\n",
      "# df['Column'] = series\n",
      "# Each series is made up of individual components of which we want to change\n",
      "\n",
      "UCSF_Spend['Extended Price']=UCSF_Spend['Extended Price'].str.replace('$','').str.replace(',','').astype('float32')"
     ],
     "language": "python",
     "metadata": {},
     "outputs": [],
     "prompt_number": 10
    },
    {
     "cell_type": "code",
     "collapsed": false,
     "input": [
      "##Now because we have a float, there are more descriptive statistics available\n",
      "UCSF_Spend['Extended Price'].describe()"
     ],
     "language": "python",
     "metadata": {},
     "outputs": [
      {
       "metadata": {},
       "output_type": "pyout",
       "prompt_number": 11,
       "text": [
        "count      7313.000000\n",
        "mean        862.094079\n",
        "std        6012.227180\n",
        "min           0.010000\n",
        "25%          33.939999\n",
        "50%         107.910004\n",
        "75%         304.200012\n",
        "max      180000.000000\n",
        "dtype: float64"
       ]
      }
     ],
     "prompt_number": 11
    },
    {
     "cell_type": "code",
     "collapsed": false,
     "input": [
      "#If you want, you can create a function to do this for you if you don't want to have the same code of line repeated\n",
      "\n",
      "\n",
      "def clean_up(df):\n",
      "    df['Extended Price'] = df['Extended Price'].str.replace('$','').str.replace(',','').astype('float32')\n",
      "\n",
      "clean_up(UCB_Spend)\n",
      "clean_up(UCSD_Spend)\n",
      "clean_up(UCR_Spend)\n",
      "clean_up(UCI_Spend)\n"
     ],
     "language": "python",
     "metadata": {},
     "outputs": [],
     "prompt_number": 12
    },
    {
     "cell_type": "code",
     "collapsed": false,
     "input": [
      "UCSF_Spend['Extended Price']"
     ],
     "language": "python",
     "metadata": {},
     "outputs": [
      {
       "metadata": {},
       "output_type": "pyout",
       "prompt_number": 13,
       "text": [
        "0      221.000000\n",
        "1       52.119999\n",
        "2      169.619995\n",
        "3       19.299999\n",
        "4      270.630005\n",
        "5       51.849998\n",
        "6      300.000000\n",
        "7     2712.000000\n",
        "8      366.000000\n",
        "9      377.399994\n",
        "10     698.000000\n",
        "11     900.000000\n",
        "12     546.539978\n",
        "13      83.260002\n",
        "14       5.010000\n",
        "...\n",
        "7298       20.000000\n",
        "7299        5.000000\n",
        "7300       10.000000\n",
        "7301       17.500000\n",
        "7302       16.500000\n",
        "7303    13722.940430\n",
        "7304       99.750000\n",
        "7305      683.820007\n",
        "7306      683.820007\n",
        "7307      275.500000\n",
        "7308      585.000000\n",
        "7309       32.299999\n",
        "7310       32.299999\n",
        "7311       96.000000\n",
        "7312     4643.250000\n",
        "Name: Extended Price, Length: 7313, dtype: float32"
       ]
      }
     ],
     "prompt_number": 13
    },
    {
     "cell_type": "heading",
     "level": 4,
     "metadata": {},
     "source": [
      "<Font Face= 'Cambria Math'> <Font Size = 4>3. Add a column and 4. Combine data"
     ]
    },
    {
     "cell_type": "code",
     "collapsed": false,
     "input": [
      "#Create a column noting each campus, so when we combine the data we can easily filter out by campus if needed\n",
      "\n",
      "UCSF_Spend['Campus']='UCSF'\n",
      "UCB_Spend['Campus']='UCB'\n",
      "UCSD_Spend['Campus']='UCSD'\n",
      "UCR_Spend['Campus']='UCR'\n",
      "UCI_Spend['Campus']='UCI'\n"
     ],
     "language": "python",
     "metadata": {},
     "outputs": [],
     "prompt_number": 14
    },
    {
     "cell_type": "code",
     "collapsed": false,
     "input": [
      "# Combine each dataframe into one aggregated dataset\n",
      "\n",
      "All_Spend=UCSF_Spend.append(UCB_Spend).append(UCSD_Spend).append(UCR_Spend).append(UCI_Spend)"
     ],
     "language": "python",
     "metadata": {},
     "outputs": [],
     "prompt_number": 15
    },
    {
     "cell_type": "code",
     "collapsed": false,
     "input": [
      "All_Spend.describe()"
     ],
     "language": "python",
     "metadata": {},
     "outputs": [
      {
       "html": [
        "<pre>\n",
        "&lt;class 'pandas.core.frame.DataFrame'&gt;\n",
        "Index: 8 entries, count to max\n",
        "Data columns (total 45 columns):\n",
        "3rd Party Address ID                   1  non-null values\n",
        "Austin-Tetra                           1  non-null values\n",
        "BillTo Address 4                       1  non-null values\n",
        "BillTo Address 5                       1  non-null values\n",
        "Business Unit                          1  non-null values\n",
        "CAS #                                  8  non-null values\n",
        "Carrier Account #                      1  non-null values\n",
        "Cart Line ID                           8  non-null values\n",
        "Category Preference                    1  non-null values\n",
        "Contract Renewal No                    8  non-null values\n",
        "Contract Savings                       8  non-null values\n",
        "Contract Unit Price                    1  non-null values\n",
        "Contract Unit Price Variance           1  non-null values\n",
        "Extended Price                         8  non-null values\n",
        "FormId                                 8  non-null values\n",
        "Fulfillment Center Address ID          8  non-null values\n",
        "Handling Charge                        8  non-null values\n",
        "LEED Compliance Details                1  non-null values\n",
        "Last 4 Digits of Credit Card Number    8  non-null values\n",
        "PO Counter                             8  non-null values\n",
        "PO ID                                  8  non-null values\n",
        "PO Line #                              8  non-null values\n",
        "PO Line ID                             8  non-null values\n",
        "PR Line ID                             8  non-null values\n",
        "Position                               1  non-null values\n",
        "ProdFlag 10                            1  non-null values\n",
        "Quantity                               8  non-null values\n",
        "RFx Status                             1  non-null values\n",
        "Replenishment Order                    1  non-null values\n",
        "ShipTo Address 4                       1  non-null values\n",
        "ShipTo Address 5                       1  non-null values\n",
        "Shipping Charge                        8  non-null values\n",
        "Stock FC ID                            1  non-null values\n",
        "Stock FC Name                          1  non-null values\n",
        "Stock Item ID                          1  non-null values\n",
        "Stock Item Name                        1  non-null values\n",
        "Stock Supplier ID                      1  non-null values\n",
        "Stock Supplier Name                    1  non-null values\n",
        "Stock Units                            1  non-null values\n",
        "Supplier ID                            8  non-null values\n",
        "Supplier Number                        8  non-null values\n",
        "Supplier Preference                    8  non-null values\n",
        "Tax 2                                  8  non-null values\n",
        "UNSPSC                                 8  non-null values\n",
        "Vendor Id                              1  non-null values\n",
        "dtypes: float64(45)\n",
        "</pre>"
       ],
       "metadata": {},
       "output_type": "pyout",
       "prompt_number": 16,
       "text": [
        "<class 'pandas.core.frame.DataFrame'>\n",
        "Index: 8 entries, count to max\n",
        "Data columns (total 45 columns):\n",
        "3rd Party Address ID                   1  non-null values\n",
        "Austin-Tetra                           1  non-null values\n",
        "BillTo Address 4                       1  non-null values\n",
        "BillTo Address 5                       1  non-null values\n",
        "Business Unit                          1  non-null values\n",
        "CAS #                                  8  non-null values\n",
        "Carrier Account #                      1  non-null values\n",
        "Cart Line ID                           8  non-null values\n",
        "Category Preference                    1  non-null values\n",
        "Contract Renewal No                    8  non-null values\n",
        "Contract Savings                       8  non-null values\n",
        "Contract Unit Price                    1  non-null values\n",
        "Contract Unit Price Variance           1  non-null values\n",
        "Extended Price                         8  non-null values\n",
        "FormId                                 8  non-null values\n",
        "Fulfillment Center Address ID          8  non-null values\n",
        "Handling Charge                        8  non-null values\n",
        "LEED Compliance Details                1  non-null values\n",
        "Last 4 Digits of Credit Card Number    8  non-null values\n",
        "PO Counter                             8  non-null values\n",
        "PO ID                                  8  non-null values\n",
        "PO Line #                              8  non-null values\n",
        "PO Line ID                             8  non-null values\n",
        "PR Line ID                             8  non-null values\n",
        "Position                               1  non-null values\n",
        "ProdFlag 10                            1  non-null values\n",
        "Quantity                               8  non-null values\n",
        "RFx Status                             1  non-null values\n",
        "Replenishment Order                    1  non-null values\n",
        "ShipTo Address 4                       1  non-null values\n",
        "ShipTo Address 5                       1  non-null values\n",
        "Shipping Charge                        8  non-null values\n",
        "Stock FC ID                            1  non-null values\n",
        "Stock FC Name                          1  non-null values\n",
        "Stock Item ID                          1  non-null values\n",
        "Stock Item Name                        1  non-null values\n",
        "Stock Supplier ID                      1  non-null values\n",
        "Stock Supplier Name                    1  non-null values\n",
        "Stock Units                            1  non-null values\n",
        "Supplier ID                            8  non-null values\n",
        "Supplier Number                        8  non-null values\n",
        "Supplier Preference                    8  non-null values\n",
        "Tax 2                                  8  non-null values\n",
        "UNSPSC                                 8  non-null values\n",
        "Vendor Id                              1  non-null values\n",
        "dtypes: float64(45)"
       ]
      }
     ],
     "prompt_number": 16
    },
    {
     "cell_type": "code",
     "collapsed": false,
     "input": [
      "# Note that adding a column with one string value such as 'UCSF' applies that value at the end of the dataframe to every single row\n",
      "##What if you wanted to add a column that takes on different values according to respective columns?\n",
      "\n",
      "import numpy as np\n",
      "\n",
      "if All_Spend['Unit Price'].dtype is np.dtype('O'):\n",
      " All_Spend['Unit Price']=All_Spend['Unit Price'].str.replace('$','').str.replace(',','').astype('float32')\n",
      "\n",
      "All_Spend['Extended Price 2']= All_Spend['Quantity']*All_Spend['Unit Price']\n",
      "\n",
      "All_Spend['Extended Price 2'].sum()"
     ],
     "language": "python",
     "metadata": {},
     "outputs": [
      {
       "metadata": {},
       "output_type": "pyout",
       "prompt_number": 17,
       "text": [
        "23180995.944430493"
       ]
      }
     ],
     "prompt_number": 17
    },
    {
     "cell_type": "code",
     "collapsed": false,
     "input": [
      "#Let's compare our computed Extended Price 2 to Extended Price in the data\n",
      "All_Spend['Extended Price'].sum()"
     ],
     "language": "python",
     "metadata": {},
     "outputs": [
      {
       "metadata": {},
       "output_type": "pyout",
       "prompt_number": 18,
       "text": [
        "23244190.0"
       ]
      }
     ],
     "prompt_number": 18
    },
    {
     "cell_type": "code",
     "collapsed": false,
     "input": [
      "import locale\n",
      "locale.setlocale( locale.LC_ALL, '' )\n",
      "\n",
      "\n",
      "diff=locale.currency(All_Spend['Extended Price'].sum()-All_Spend['Extended Price 2'].sum())\n",
      "print \"The difference in created spend vs. spend in the data is %s\" %diff"
     ],
     "language": "python",
     "metadata": {},
     "outputs": [
      {
       "output_type": "stream",
       "stream": "stdout",
       "text": [
        "The difference in created spend vs. spend in the data is $63194.06\n"
       ]
      }
     ],
     "prompt_number": 19
    },
    {
     "cell_type": "code",
     "collapsed": false,
     "input": [
      "## We can dig into the data and see what is going, why is there a difference...\n",
      "\n",
      "All_Spend['Unit Price'].isnull()"
     ],
     "language": "python",
     "metadata": {},
     "outputs": [
      {
       "metadata": {},
       "output_type": "pyout",
       "prompt_number": 20,
       "text": [
        "0     False\n",
        "1     False\n",
        "2     False\n",
        "3     False\n",
        "4     False\n",
        "5     False\n",
        "6     False\n",
        "7     False\n",
        "8     False\n",
        "9     False\n",
        "10    False\n",
        "11    False\n",
        "12    False\n",
        "13    False\n",
        "14    False\n",
        "...\n",
        "799    True\n",
        "800    True\n",
        "801    True\n",
        "802    True\n",
        "803    True\n",
        "804    True\n",
        "805    True\n",
        "806    True\n",
        "807    True\n",
        "808    True\n",
        "809    True\n",
        "810    True\n",
        "811    True\n",
        "812    True\n",
        "813    True\n",
        "Name: Unit Price, Length: 26599, dtype: bool"
       ]
      }
     ],
     "prompt_number": 20
    },
    {
     "cell_type": "code",
     "collapsed": false,
     "input": [
      "#Segment the data where there is no Unit Price to further look into this\n",
      "empty_values=All_Spend[All_Spend['Unit Price'].isnull()]\n",
      "\n",
      "empty_values['Campus'].unique()"
     ],
     "language": "python",
     "metadata": {},
     "outputs": [
      {
       "metadata": {},
       "output_type": "pyout",
       "prompt_number": 21,
       "text": [
        "array(['UCI'], dtype=object)"
       ]
      }
     ],
     "prompt_number": 21
    },
    {
     "cell_type": "heading",
     "level": 4,
     "metadata": {},
     "source": [
      "<b><Font Face='Cambria Math'><Font Size= 4> 5. Indexing and Filtering Data "
     ]
    },
    {
     "cell_type": "markdown",
     "metadata": {},
     "source": [
      "<Font Face ='Cambria Math'><Font Size=4> So let's say we only want a few columns to look at instead of the 147 that we currently are dealing with"
     ]
    },
    {
     "cell_type": "code",
     "collapsed": false,
     "input": [
      "All_filtered = All_Spend.loc[:,['Creation Date','PO #','Product Description','Supplier Name','Manufacturer','Quantity','Unit Price','Extended Price','Department','Campus']]"
     ],
     "language": "python",
     "metadata": {},
     "outputs": [],
     "prompt_number": 22
    },
    {
     "cell_type": "code",
     "collapsed": false,
     "input": [
      "All_filtered[:10]"
     ],
     "language": "python",
     "metadata": {},
     "outputs": [
      {
       "html": [
        "<div style=\"max-height:1000px;max-width:1500px;overflow:auto;\">\n",
        "<table border=\"1\" class=\"dataframe\">\n",
        "  <thead>\n",
        "    <tr style=\"text-align: right;\">\n",
        "      <th></th>\n",
        "      <th>Creation Date</th>\n",
        "      <th>PO #</th>\n",
        "      <th>Product Description</th>\n",
        "      <th>Supplier Name</th>\n",
        "      <th>Manufacturer</th>\n",
        "      <th>Quantity</th>\n",
        "      <th>Unit Price</th>\n",
        "      <th>Extended Price</th>\n",
        "      <th>Department</th>\n",
        "      <th>Campus</th>\n",
        "    </tr>\n",
        "  </thead>\n",
        "  <tbody>\n",
        "    <tr>\n",
        "      <th>0</th>\n",
        "      <td> 5/17/2014</td>\n",
        "      <td> B000422597</td>\n",
        "      <td> Immunoassay, ELISA; Abnova; PRL (Human) ELISA ...</td>\n",
        "      <td>              FISHER SCIENTIFIC</td>\n",
        "      <td>       Abnova Corporation</td>\n",
        "      <td>  1</td>\n",
        "      <td>  221.000000</td>\n",
        "      <td>  221.000000</td>\n",
        "      <td> 123035</td>\n",
        "      <td> UCSF</td>\n",
        "    </tr>\n",
        "    <tr>\n",
        "      <th>1</th>\n",
        "      <td> 5/17/2014</td>\n",
        "      <td> B000422596</td>\n",
        "      <td>                                 \ufffd-Estradiol, =98%</td>\n",
        "      <td>              SIGMA-ALDRICH INC</td>\n",
        "      <td>            SIGMA-ALDRICH</td>\n",
        "      <td>  1</td>\n",
        "      <td>   52.119999</td>\n",
        "      <td>   52.119999</td>\n",
        "      <td> 123035</td>\n",
        "      <td> UCSF</td>\n",
        "    </tr>\n",
        "    <tr>\n",
        "      <th>2</th>\n",
        "      <td> 5/17/2014</td>\n",
        "      <td> B000422596</td>\n",
        "      <td> Adenosine 3',5'-cyclic monophosphate, =98.5% (...</td>\n",
        "      <td>              SIGMA-ALDRICH INC</td>\n",
        "      <td>            SIGMA-ALDRICH</td>\n",
        "      <td>  1</td>\n",
        "      <td>  169.619995</td>\n",
        "      <td>  169.619995</td>\n",
        "      <td> 123035</td>\n",
        "      <td> UCSF</td>\n",
        "    </tr>\n",
        "    <tr>\n",
        "      <th>3</th>\n",
        "      <td> 5/17/2014</td>\n",
        "      <td> B000422596</td>\n",
        "      <td>                        Methylphosphonic acid, 98%</td>\n",
        "      <td>              SIGMA-ALDRICH INC</td>\n",
        "      <td>            SIGMA-ALDRICH</td>\n",
        "      <td>  1</td>\n",
        "      <td>   19.299999</td>\n",
        "      <td>   19.299999</td>\n",
        "      <td> 123035</td>\n",
        "      <td> UCSF</td>\n",
        "    </tr>\n",
        "    <tr>\n",
        "      <th>4</th>\n",
        "      <td> 5/17/2014</td>\n",
        "      <td> B000422595</td>\n",
        "      <td>                                   Mucin 1 (VU4H5)</td>\n",
        "      <td>   SANTA CRUZ BIOTECHNOLOGY INC</td>\n",
        "      <td> Santa Cruz Biotechnology</td>\n",
        "      <td>  1</td>\n",
        "      <td>  270.630005</td>\n",
        "      <td>  270.630005</td>\n",
        "      <td> 123035</td>\n",
        "      <td> UCSF</td>\n",
        "    </tr>\n",
        "    <tr>\n",
        "      <th>5</th>\n",
        "      <td> 5/17/2014</td>\n",
        "      <td> B000422594</td>\n",
        "      <td> BD Pharmingen IHC Zinc Fixative; Ready-to-use;...</td>\n",
        "      <td>              FISHER SCIENTIFIC</td>\n",
        "      <td>         Bd Cell Analysis</td>\n",
        "      <td>  1</td>\n",
        "      <td>   51.849998</td>\n",
        "      <td>   51.849998</td>\n",
        "      <td> 138401</td>\n",
        "      <td> UCSF</td>\n",
        "    </tr>\n",
        "    <tr>\n",
        "      <th>6</th>\n",
        "      <td> 5/17/2014</td>\n",
        "      <td> B000422593</td>\n",
        "      <td>  DBZ (20 mg) Dibenzazepine (Deshydroxy LY 411575)</td>\n",
        "      <td> TORONTO RESEARCH CHEMICALS INC</td>\n",
        "      <td>                      NaN</td>\n",
        "      <td>  1</td>\n",
        "      <td>  300.000000</td>\n",
        "      <td>  300.000000</td>\n",
        "      <td> 138401</td>\n",
        "      <td> UCSF</td>\n",
        "    </tr>\n",
        "    <tr>\n",
        "      <th>7</th>\n",
        "      <td> 5/17/2014</td>\n",
        "      <td> B000422592</td>\n",
        "      <td>                              MBP 13.3/256GB FLASH</td>\n",
        "      <td>            APPLE COMPUTER, INC</td>\n",
        "      <td>                      NaN</td>\n",
        "      <td>  2</td>\n",
        "      <td> 1356.000000</td>\n",
        "      <td> 2712.000000</td>\n",
        "      <td> 147100</td>\n",
        "      <td> UCSF</td>\n",
        "    </tr>\n",
        "    <tr>\n",
        "      <th>8</th>\n",
        "      <td> 5/17/2014</td>\n",
        "      <td> B000422592</td>\n",
        "      <td>                APP FOR MB AIR/13\" MB PRO - EDU/AE</td>\n",
        "      <td>            APPLE COMPUTER, INC</td>\n",
        "      <td>                      NaN</td>\n",
        "      <td>  2</td>\n",
        "      <td>  183.000000</td>\n",
        "      <td>  366.000000</td>\n",
        "      <td> 147100</td>\n",
        "      <td> UCSF</td>\n",
        "    </tr>\n",
        "    <tr>\n",
        "      <th>9</th>\n",
        "      <td> 5/17/2014</td>\n",
        "      <td> B000422591</td>\n",
        "      <td> MEDIUM MEME 1X W/EARLES SALT 500ML PK6 cellgro...</td>\n",
        "      <td>        VWR INTERNATIONAL, INC.</td>\n",
        "      <td>            MEDIATECH INC</td>\n",
        "      <td> 12</td>\n",
        "      <td>   31.450001</td>\n",
        "      <td>  377.399994</td>\n",
        "      <td> 114083</td>\n",
        "      <td> UCSF</td>\n",
        "    </tr>\n",
        "  </tbody>\n",
        "</table>\n",
        "</div>"
       ],
       "metadata": {},
       "output_type": "pyout",
       "prompt_number": 23,
       "text": [
        "  Creation Date        PO #  \\\n",
        "0     5/17/2014  B000422597   \n",
        "1     5/17/2014  B000422596   \n",
        "2     5/17/2014  B000422596   \n",
        "3     5/17/2014  B000422596   \n",
        "4     5/17/2014  B000422595   \n",
        "5     5/17/2014  B000422594   \n",
        "6     5/17/2014  B000422593   \n",
        "7     5/17/2014  B000422592   \n",
        "8     5/17/2014  B000422592   \n",
        "9     5/17/2014  B000422591   \n",
        "\n",
        "                                 Product Description  \\\n",
        "0  Immunoassay, ELISA; Abnova; PRL (Human) ELISA ...   \n",
        "1                                  \ufffd-Estradiol, =98%   \n",
        "2  Adenosine 3',5'-cyclic monophosphate, =98.5% (...   \n",
        "3                         Methylphosphonic acid, 98%   \n",
        "4                                    Mucin 1 (VU4H5)   \n",
        "5  BD Pharmingen IHC Zinc Fixative; Ready-to-use;...   \n",
        "6   DBZ (20 mg) Dibenzazepine (Deshydroxy LY 411575)   \n",
        "7                               MBP 13.3/256GB FLASH   \n",
        "8                 APP FOR MB AIR/13\" MB PRO - EDU/AE   \n",
        "9  MEDIUM MEME 1X W/EARLES SALT 500ML PK6 cellgro...   \n",
        "\n",
        "                    Supplier Name              Manufacturer  Quantity  \\\n",
        "0               FISHER SCIENTIFIC        Abnova Corporation         1   \n",
        "1               SIGMA-ALDRICH INC             SIGMA-ALDRICH         1   \n",
        "2               SIGMA-ALDRICH INC             SIGMA-ALDRICH         1   \n",
        "3               SIGMA-ALDRICH INC             SIGMA-ALDRICH         1   \n",
        "4    SANTA CRUZ BIOTECHNOLOGY INC  Santa Cruz Biotechnology         1   \n",
        "5               FISHER SCIENTIFIC          Bd Cell Analysis         1   \n",
        "6  TORONTO RESEARCH CHEMICALS INC                       NaN         1   \n",
        "7             APPLE COMPUTER, INC                       NaN         2   \n",
        "8             APPLE COMPUTER, INC                       NaN         2   \n",
        "9         VWR INTERNATIONAL, INC.             MEDIATECH INC        12   \n",
        "\n",
        "    Unit Price  Extended Price Department Campus  \n",
        "0   221.000000      221.000000     123035   UCSF  \n",
        "1    52.119999       52.119999     123035   UCSF  \n",
        "2   169.619995      169.619995     123035   UCSF  \n",
        "3    19.299999       19.299999     123035   UCSF  \n",
        "4   270.630005      270.630005     123035   UCSF  \n",
        "5    51.849998       51.849998     138401   UCSF  \n",
        "6   300.000000      300.000000     138401   UCSF  \n",
        "7  1356.000000     2712.000000     147100   UCSF  \n",
        "8   183.000000      366.000000     147100   UCSF  \n",
        "9    31.450001      377.399994     114083   UCSF  "
       ]
      }
     ],
     "prompt_number": 23
    },
    {
     "cell_type": "code",
     "collapsed": false,
     "input": [
      "del All_filtered['Department']"
     ],
     "language": "python",
     "metadata": {},
     "outputs": [],
     "prompt_number": 24
    },
    {
     "cell_type": "code",
     "collapsed": false,
     "input": [
      "All_filtered[:10]"
     ],
     "language": "python",
     "metadata": {},
     "outputs": [
      {
       "html": [
        "<div style=\"max-height:1000px;max-width:1500px;overflow:auto;\">\n",
        "<table border=\"1\" class=\"dataframe\">\n",
        "  <thead>\n",
        "    <tr style=\"text-align: right;\">\n",
        "      <th></th>\n",
        "      <th>Creation Date</th>\n",
        "      <th>PO #</th>\n",
        "      <th>Product Description</th>\n",
        "      <th>Supplier Name</th>\n",
        "      <th>Manufacturer</th>\n",
        "      <th>Quantity</th>\n",
        "      <th>Unit Price</th>\n",
        "      <th>Extended Price</th>\n",
        "      <th>Campus</th>\n",
        "    </tr>\n",
        "  </thead>\n",
        "  <tbody>\n",
        "    <tr>\n",
        "      <th>0</th>\n",
        "      <td> 5/17/2014</td>\n",
        "      <td> B000422597</td>\n",
        "      <td> Immunoassay, ELISA; Abnova; PRL (Human) ELISA ...</td>\n",
        "      <td>              FISHER SCIENTIFIC</td>\n",
        "      <td>       Abnova Corporation</td>\n",
        "      <td>  1</td>\n",
        "      <td>  221.000000</td>\n",
        "      <td>  221.000000</td>\n",
        "      <td> UCSF</td>\n",
        "    </tr>\n",
        "    <tr>\n",
        "      <th>1</th>\n",
        "      <td> 5/17/2014</td>\n",
        "      <td> B000422596</td>\n",
        "      <td>                                 \ufffd-Estradiol, =98%</td>\n",
        "      <td>              SIGMA-ALDRICH INC</td>\n",
        "      <td>            SIGMA-ALDRICH</td>\n",
        "      <td>  1</td>\n",
        "      <td>   52.119999</td>\n",
        "      <td>   52.119999</td>\n",
        "      <td> UCSF</td>\n",
        "    </tr>\n",
        "    <tr>\n",
        "      <th>2</th>\n",
        "      <td> 5/17/2014</td>\n",
        "      <td> B000422596</td>\n",
        "      <td> Adenosine 3',5'-cyclic monophosphate, =98.5% (...</td>\n",
        "      <td>              SIGMA-ALDRICH INC</td>\n",
        "      <td>            SIGMA-ALDRICH</td>\n",
        "      <td>  1</td>\n",
        "      <td>  169.619995</td>\n",
        "      <td>  169.619995</td>\n",
        "      <td> UCSF</td>\n",
        "    </tr>\n",
        "    <tr>\n",
        "      <th>3</th>\n",
        "      <td> 5/17/2014</td>\n",
        "      <td> B000422596</td>\n",
        "      <td>                        Methylphosphonic acid, 98%</td>\n",
        "      <td>              SIGMA-ALDRICH INC</td>\n",
        "      <td>            SIGMA-ALDRICH</td>\n",
        "      <td>  1</td>\n",
        "      <td>   19.299999</td>\n",
        "      <td>   19.299999</td>\n",
        "      <td> UCSF</td>\n",
        "    </tr>\n",
        "    <tr>\n",
        "      <th>4</th>\n",
        "      <td> 5/17/2014</td>\n",
        "      <td> B000422595</td>\n",
        "      <td>                                   Mucin 1 (VU4H5)</td>\n",
        "      <td>   SANTA CRUZ BIOTECHNOLOGY INC</td>\n",
        "      <td> Santa Cruz Biotechnology</td>\n",
        "      <td>  1</td>\n",
        "      <td>  270.630005</td>\n",
        "      <td>  270.630005</td>\n",
        "      <td> UCSF</td>\n",
        "    </tr>\n",
        "    <tr>\n",
        "      <th>5</th>\n",
        "      <td> 5/17/2014</td>\n",
        "      <td> B000422594</td>\n",
        "      <td> BD Pharmingen IHC Zinc Fixative; Ready-to-use;...</td>\n",
        "      <td>              FISHER SCIENTIFIC</td>\n",
        "      <td>         Bd Cell Analysis</td>\n",
        "      <td>  1</td>\n",
        "      <td>   51.849998</td>\n",
        "      <td>   51.849998</td>\n",
        "      <td> UCSF</td>\n",
        "    </tr>\n",
        "    <tr>\n",
        "      <th>6</th>\n",
        "      <td> 5/17/2014</td>\n",
        "      <td> B000422593</td>\n",
        "      <td>  DBZ (20 mg) Dibenzazepine (Deshydroxy LY 411575)</td>\n",
        "      <td> TORONTO RESEARCH CHEMICALS INC</td>\n",
        "      <td>                      NaN</td>\n",
        "      <td>  1</td>\n",
        "      <td>  300.000000</td>\n",
        "      <td>  300.000000</td>\n",
        "      <td> UCSF</td>\n",
        "    </tr>\n",
        "    <tr>\n",
        "      <th>7</th>\n",
        "      <td> 5/17/2014</td>\n",
        "      <td> B000422592</td>\n",
        "      <td>                              MBP 13.3/256GB FLASH</td>\n",
        "      <td>            APPLE COMPUTER, INC</td>\n",
        "      <td>                      NaN</td>\n",
        "      <td>  2</td>\n",
        "      <td> 1356.000000</td>\n",
        "      <td> 2712.000000</td>\n",
        "      <td> UCSF</td>\n",
        "    </tr>\n",
        "    <tr>\n",
        "      <th>8</th>\n",
        "      <td> 5/17/2014</td>\n",
        "      <td> B000422592</td>\n",
        "      <td>                APP FOR MB AIR/13\" MB PRO - EDU/AE</td>\n",
        "      <td>            APPLE COMPUTER, INC</td>\n",
        "      <td>                      NaN</td>\n",
        "      <td>  2</td>\n",
        "      <td>  183.000000</td>\n",
        "      <td>  366.000000</td>\n",
        "      <td> UCSF</td>\n",
        "    </tr>\n",
        "    <tr>\n",
        "      <th>9</th>\n",
        "      <td> 5/17/2014</td>\n",
        "      <td> B000422591</td>\n",
        "      <td> MEDIUM MEME 1X W/EARLES SALT 500ML PK6 cellgro...</td>\n",
        "      <td>        VWR INTERNATIONAL, INC.</td>\n",
        "      <td>            MEDIATECH INC</td>\n",
        "      <td> 12</td>\n",
        "      <td>   31.450001</td>\n",
        "      <td>  377.399994</td>\n",
        "      <td> UCSF</td>\n",
        "    </tr>\n",
        "  </tbody>\n",
        "</table>\n",
        "</div>"
       ],
       "metadata": {},
       "output_type": "pyout",
       "prompt_number": 25,
       "text": [
        "  Creation Date        PO #  \\\n",
        "0     5/17/2014  B000422597   \n",
        "1     5/17/2014  B000422596   \n",
        "2     5/17/2014  B000422596   \n",
        "3     5/17/2014  B000422596   \n",
        "4     5/17/2014  B000422595   \n",
        "5     5/17/2014  B000422594   \n",
        "6     5/17/2014  B000422593   \n",
        "7     5/17/2014  B000422592   \n",
        "8     5/17/2014  B000422592   \n",
        "9     5/17/2014  B000422591   \n",
        "\n",
        "                                 Product Description  \\\n",
        "0  Immunoassay, ELISA; Abnova; PRL (Human) ELISA ...   \n",
        "1                                  \ufffd-Estradiol, =98%   \n",
        "2  Adenosine 3',5'-cyclic monophosphate, =98.5% (...   \n",
        "3                         Methylphosphonic acid, 98%   \n",
        "4                                    Mucin 1 (VU4H5)   \n",
        "5  BD Pharmingen IHC Zinc Fixative; Ready-to-use;...   \n",
        "6   DBZ (20 mg) Dibenzazepine (Deshydroxy LY 411575)   \n",
        "7                               MBP 13.3/256GB FLASH   \n",
        "8                 APP FOR MB AIR/13\" MB PRO - EDU/AE   \n",
        "9  MEDIUM MEME 1X W/EARLES SALT 500ML PK6 cellgro...   \n",
        "\n",
        "                    Supplier Name              Manufacturer  Quantity  \\\n",
        "0               FISHER SCIENTIFIC        Abnova Corporation         1   \n",
        "1               SIGMA-ALDRICH INC             SIGMA-ALDRICH         1   \n",
        "2               SIGMA-ALDRICH INC             SIGMA-ALDRICH         1   \n",
        "3               SIGMA-ALDRICH INC             SIGMA-ALDRICH         1   \n",
        "4    SANTA CRUZ BIOTECHNOLOGY INC  Santa Cruz Biotechnology         1   \n",
        "5               FISHER SCIENTIFIC          Bd Cell Analysis         1   \n",
        "6  TORONTO RESEARCH CHEMICALS INC                       NaN         1   \n",
        "7             APPLE COMPUTER, INC                       NaN         2   \n",
        "8             APPLE COMPUTER, INC                       NaN         2   \n",
        "9         VWR INTERNATIONAL, INC.             MEDIATECH INC        12   \n",
        "\n",
        "    Unit Price  Extended Price Campus  \n",
        "0   221.000000      221.000000   UCSF  \n",
        "1    52.119999       52.119999   UCSF  \n",
        "2   169.619995      169.619995   UCSF  \n",
        "3    19.299999       19.299999   UCSF  \n",
        "4   270.630005      270.630005   UCSF  \n",
        "5    51.849998       51.849998   UCSF  \n",
        "6   300.000000      300.000000   UCSF  \n",
        "7  1356.000000     2712.000000   UCSF  \n",
        "8   183.000000      366.000000   UCSF  \n",
        "9    31.450001      377.399994   UCSF  "
       ]
      }
     ],
     "prompt_number": 25
    },
    {
     "cell_type": "markdown",
     "metadata": {},
     "source": [
      "<b><Font Face='Cambria Math'><Font Size=4>6. Exploring the data"
     ]
    },
    {
     "cell_type": "markdown",
     "metadata": {},
     "source": [
      "<b><Font Face='Cambria Math'><Font Size= 4> Looking at Apple vs. Dell Spend for all 5 campuses"
     ]
    },
    {
     "cell_type": "code",
     "collapsed": false,
     "input": [
      "#The input of Supplier name can be varied, so lets just lower case everything \n",
      "\n",
      "All_filtered['Supplier Name']=All_filtered['Supplier Name'].str.lower()\n",
      "\n",
      "Apple=All_filtered[All_filtered['Supplier Name'].str.contains('.*apple.*')]"
     ],
     "language": "python",
     "metadata": {},
     "outputs": [],
     "prompt_number": 26
    },
    {
     "cell_type": "code",
     "collapsed": false,
     "input": [
      "#Let's see what suppliers we captured when filtering by apple\n",
      "\n",
      "\n",
      "Apple['Supplier Name'].unique()"
     ],
     "language": "python",
     "metadata": {},
     "outputs": [
      {
       "metadata": {},
       "output_type": "pyout",
       "prompt_number": 27,
       "text": [
        "array(['apple computer, inc', 'apple computer inc', 'appleton,andrea',\n",
        "       'appleton,evan'], dtype=object)"
       ]
      }
     ],
     "prompt_number": 27
    },
    {
     "cell_type": "code",
     "collapsed": false,
     "input": [
      "#Let's omit these people so we only look at apple computers as a supplier\n",
      "\n",
      "\n",
      "List= ('appleton,andrea','appleton,evan')\n",
      "Apple=Apple[-Apple['Supplier Name'].isin(List)]"
     ],
     "language": "python",
     "metadata": {},
     "outputs": [],
     "prompt_number": 28
    },
    {
     "cell_type": "code",
     "collapsed": false,
     "input": [
      "#Making sure it worked\n",
      "\n",
      "\n",
      "Apple['Supplier Name'].unique()"
     ],
     "language": "python",
     "metadata": {},
     "outputs": [
      {
       "metadata": {},
       "output_type": "pyout",
       "prompt_number": 29,
       "text": [
        "array(['apple computer, inc', 'apple computer inc'], dtype=object)"
       ]
      }
     ],
     "prompt_number": 29
    },
    {
     "cell_type": "code",
     "collapsed": false,
     "input": [
      "#How much did the five campuses spend through Apple?\n",
      "\n",
      "Apple_Spend = locale.currency(Apple['Extended Price'].sum())\n",
      "\n",
      "\n",
      "print \"\\nThe total amount spent through Apple in May,according to Supplier Name, is %s\" %Apple_Spend"
     ],
     "language": "python",
     "metadata": {},
     "outputs": [
      {
       "output_type": "stream",
       "stream": "stdout",
       "text": [
        "\n",
        "The total amount spent through Apple in May,according to Supplier Name, is $193156.95\n"
       ]
      }
     ],
     "prompt_number": 30
    },
    {
     "cell_type": "code",
     "collapsed": false,
     "input": [
      "#Taking a look at Dell\n",
      "\n",
      "Dell= All_filtered[All_filtered['Supplier Name'].str.contains('.*dell.*')]\n",
      "\n",
      "Dell['Supplier Name'].unique()"
     ],
     "language": "python",
     "metadata": {},
     "outputs": [
      {
       "metadata": {},
       "output_type": "pyout",
       "prompt_number": 31,
       "text": [
        "array(['dell marketing l.p.', 'dell marketing lp', 'dell,rebecca', 'dell'], dtype=object)"
       ]
      }
     ],
     "prompt_number": 31
    },
    {
     "cell_type": "code",
     "collapsed": false,
     "input": [
      "#Filter out a dataframe by something that I don't want(vs. getting what I want), by using the - sign\n",
      "\n",
      "Dell=Dell[-Dell['Supplier Name'].str.contains('.*rebecca.*')]\n",
      "\n",
      "Dell['Supplier Name'].unique()"
     ],
     "language": "python",
     "metadata": {},
     "outputs": [
      {
       "metadata": {},
       "output_type": "pyout",
       "prompt_number": 32,
       "text": [
        "array(['dell marketing l.p.', 'dell marketing lp', 'dell'], dtype=object)"
       ]
      }
     ],
     "prompt_number": 32
    },
    {
     "cell_type": "code",
     "collapsed": false,
     "input": [
      "Dell_Spend = locale.currency(Dell['Extended Price'].sum())\n",
      "print \"\\nThe total amount spent through Dell in May,according to Supplier Name, is %s\" %Dell_Spend\n",
      "\n",
      "\n",
      "#Note, if I do Dell_Spend-Apple_Spend, they are strings so can't compute\n",
      "difference = locale.currency(Dell['Extended Price'].sum()-Apple['Extended Price'].sum())\n",
      "print \"\\nDell minus Apple Spend is %s\" %difference"
     ],
     "language": "python",
     "metadata": {},
     "outputs": [
      {
       "output_type": "stream",
       "stream": "stdout",
       "text": [
        "\n",
        "The total amount spent through Dell in May,according to Supplier Name, is $262561.94\n",
        "\n",
        "Dell minus Apple Spend is $69404.98\n"
       ]
      }
     ],
     "prompt_number": 33
    },
    {
     "cell_type": "markdown",
     "metadata": {},
     "source": [
      "<Font Face='Cambria Math'>"
     ]
    },
    {
     "cell_type": "markdown",
     "metadata": {},
     "source": [
      "<b><Font Face='Cambria Math'><Font Size=4>Looking at spend through the different campuses for Apple vs. Dell"
     ]
    },
    {
     "cell_type": "code",
     "collapsed": false,
     "input": [
      "List2=('dell marketing l.p.', 'dell marketing lp', 'dell','apple computer, inc', 'apple computer inc')\n",
      "\n",
      "SF_B= All_filtered[All_filtered['Supplier Name'].isin(List2)]\n",
      "\n",
      "#Or I could have appeneded my Dell and Apple spend already\n",
      "  #Both = Dell.append(Apple)\n",
      "\n",
      "SF_B= SF_B[SF_B['Campus'].isin(['UCSF', 'UCB'])]"
     ],
     "language": "python",
     "metadata": {},
     "outputs": [],
     "prompt_number": 34
    },
    {
     "cell_type": "code",
     "collapsed": false,
     "input": [
      "SF_B['Supplier Name']"
     ],
     "language": "python",
     "metadata": {},
     "outputs": [
      {
       "metadata": {},
       "output_type": "pyout",
       "prompt_number": 35,
       "text": [
        "7       apple computer, inc\n",
        "8       apple computer, inc\n",
        "36      apple computer, inc\n",
        "37      apple computer, inc\n",
        "38      apple computer, inc\n",
        "39      apple computer, inc\n",
        "115     dell marketing l.p.\n",
        "116     dell marketing l.p.\n",
        "707     apple computer, inc\n",
        "827     dell marketing l.p.\n",
        "981     apple computer, inc\n",
        "982     apple computer, inc\n",
        "983     apple computer, inc\n",
        "984     apple computer, inc\n",
        "1035    apple computer, inc\n",
        "...\n",
        "6883     dell marketing lp\n",
        "7059     dell marketing lp\n",
        "7060     dell marketing lp\n",
        "7061     dell marketing lp\n",
        "7063     dell marketing lp\n",
        "7064     dell marketing lp\n",
        "7097     dell marketing lp\n",
        "7098     dell marketing lp\n",
        "7221    apple computer inc\n",
        "7222    apple computer inc\n",
        "7285    apple computer inc\n",
        "7359    apple computer inc\n",
        "7360    apple computer inc\n",
        "7449    apple computer inc\n",
        "7450    apple computer inc\n",
        "Name: Supplier Name, Length: 336, dtype: object"
       ]
      }
     ],
     "prompt_number": 35
    },
    {
     "cell_type": "code",
     "collapsed": false,
     "input": [
      "#Now we have the data for UC Berkeley and UCSF Suppliers are Dell or Apple\n",
      "#We can quickly see the aggregated totals per supplier and campus through a pivot table\n",
      "\n",
      "from pandas import pivot_table\n",
      "Totals= pivot_table(SF_B, rows=['Campus','Supplier Name'], values=['Quantity','Extended Price'], aggfunc=np.sum)\n",
      "\n",
      "Totals.head()"
     ],
     "language": "python",
     "metadata": {},
     "outputs": [
      {
       "html": [
        "<div style=\"max-height:1000px;max-width:1500px;overflow:auto;\">\n",
        "<table border=\"1\" class=\"dataframe\">\n",
        "  <thead>\n",
        "    <tr style=\"text-align: right;\">\n",
        "      <th></th>\n",
        "      <th></th>\n",
        "      <th>Extended Price</th>\n",
        "      <th>Quantity</th>\n",
        "    </tr>\n",
        "    <tr>\n",
        "      <th>Campus</th>\n",
        "      <th>Supplier Name</th>\n",
        "      <th></th>\n",
        "      <th></th>\n",
        "    </tr>\n",
        "  </thead>\n",
        "  <tbody>\n",
        "    <tr>\n",
        "      <th rowspan=\"2\" valign=\"top\">UCB</th>\n",
        "      <th>apple computer inc</th>\n",
        "      <td> 84899.445312</td>\n",
        "      <td> 154</td>\n",
        "    </tr>\n",
        "    <tr>\n",
        "      <th>dell marketing lp</th>\n",
        "      <td> 58162.777344</td>\n",
        "      <td> 130</td>\n",
        "    </tr>\n",
        "    <tr>\n",
        "      <th rowspan=\"2\" valign=\"top\">UCSF</th>\n",
        "      <th>apple computer, inc</th>\n",
        "      <td> 54128.730469</td>\n",
        "      <td> 126</td>\n",
        "    </tr>\n",
        "    <tr>\n",
        "      <th>dell marketing l.p.</th>\n",
        "      <td> 45738.339844</td>\n",
        "      <td>  89</td>\n",
        "    </tr>\n",
        "  </tbody>\n",
        "</table>\n",
        "</div>"
       ],
       "metadata": {},
       "output_type": "pyout",
       "prompt_number": 36,
       "text": [
        "                            Extended Price  Quantity\n",
        "Campus Supplier Name                                \n",
        "UCB    apple computer inc     84899.445312       154\n",
        "       dell marketing lp      58162.777344       130\n",
        "UCSF   apple computer, inc    54128.730469       126\n",
        "       dell marketing l.p.    45738.339844        89"
       ]
      }
     ],
     "prompt_number": 36
    },
    {
     "cell_type": "code",
     "collapsed": false,
     "input": [
      "#How about looking at totals for Apple and Dell for all 5 campuses?\n",
      "\n",
      "Dell_Apple_All=All_filtered[All_filtered['Supplier Name'].isin(List2)]\n",
      "All_totals=pivot_table(Dell_Apple_All,rows=['Campus','Supplier Name'], values=['Quantity','Extended Price'], aggfunc=np.sum)\n",
      "\n",
      "\n",
      "All_totals[:20]"
     ],
     "language": "python",
     "metadata": {},
     "outputs": [
      {
       "html": [
        "<div style=\"max-height:1000px;max-width:1500px;overflow:auto;\">\n",
        "<table border=\"1\" class=\"dataframe\">\n",
        "  <thead>\n",
        "    <tr style=\"text-align: right;\">\n",
        "      <th></th>\n",
        "      <th></th>\n",
        "      <th>Extended Price</th>\n",
        "      <th>Quantity</th>\n",
        "    </tr>\n",
        "    <tr>\n",
        "      <th>Campus</th>\n",
        "      <th>Supplier Name</th>\n",
        "      <th></th>\n",
        "      <th></th>\n",
        "    </tr>\n",
        "  </thead>\n",
        "  <tbody>\n",
        "    <tr>\n",
        "      <th rowspan=\"2\" valign=\"top\">UCB</th>\n",
        "      <th>apple computer inc</th>\n",
        "      <td>  84899.445312</td>\n",
        "      <td> 154</td>\n",
        "    </tr>\n",
        "    <tr>\n",
        "      <th>dell marketing lp</th>\n",
        "      <td>  58162.777344</td>\n",
        "      <td> 130</td>\n",
        "    </tr>\n",
        "    <tr>\n",
        "      <th>UCR</th>\n",
        "      <th>dell</th>\n",
        "      <td> 112922.476562</td>\n",
        "      <td> 224</td>\n",
        "    </tr>\n",
        "    <tr>\n",
        "      <th rowspan=\"2\" valign=\"top\">UCSD</th>\n",
        "      <th>apple computer, inc</th>\n",
        "      <td>  54128.730469</td>\n",
        "      <td> 126</td>\n",
        "    </tr>\n",
        "    <tr>\n",
        "      <th>dell marketing l.p.</th>\n",
        "      <td>  45738.339844</td>\n",
        "      <td>  89</td>\n",
        "    </tr>\n",
        "    <tr>\n",
        "      <th rowspan=\"2\" valign=\"top\">UCSF</th>\n",
        "      <th>apple computer, inc</th>\n",
        "      <td>  54128.730469</td>\n",
        "      <td> 126</td>\n",
        "    </tr>\n",
        "    <tr>\n",
        "      <th>dell marketing l.p.</th>\n",
        "      <td>  45738.339844</td>\n",
        "      <td>  89</td>\n",
        "    </tr>\n",
        "  </tbody>\n",
        "</table>\n",
        "</div>"
       ],
       "metadata": {},
       "output_type": "pyout",
       "prompt_number": 64,
       "text": [
        "                            Extended Price  Quantity\n",
        "Campus Supplier Name                                \n",
        "UCB    apple computer inc     84899.445312       154\n",
        "       dell marketing lp      58162.777344       130\n",
        "UCR    dell                  112922.476562       224\n",
        "UCSD   apple computer, inc    54128.730469       126\n",
        "       dell marketing l.p.    45738.339844        89\n",
        "UCSF   apple computer, inc    54128.730469       126\n",
        "       dell marketing l.p.    45738.339844        89"
       ]
      }
     ],
     "prompt_number": 64
    },
    {
     "cell_type": "code",
     "collapsed": false,
     "input": [
      "# Looking at this pivot table what happens if I try to call out the column Campus or Supplier Name?\n",
      "\n",
      "All_totals['Campus']"
     ],
     "language": "python",
     "metadata": {},
     "outputs": [
      {
       "ename": "KeyError",
       "evalue": "u'no item named Campus'",
       "output_type": "pyerr",
       "traceback": [
        "\u001b[1;31m---------------------------------------------------------------------------\u001b[0m\n\u001b[1;31mKeyError\u001b[0m                                  Traceback (most recent call last)",
        "\u001b[1;32m<ipython-input-63-ed3e11407315>\u001b[0m in \u001b[0;36m<module>\u001b[1;34m()\u001b[0m\n\u001b[0;32m      1\u001b[0m \u001b[1;31m# Looking at this pivot table what happens if I try to call out the column Campus or Supplier Name?\u001b[0m\u001b[1;33m\u001b[0m\u001b[1;33m\u001b[0m\u001b[0m\n\u001b[0;32m      2\u001b[0m \u001b[1;33m\u001b[0m\u001b[0m\n\u001b[1;32m----> 3\u001b[1;33m \u001b[0mAll_totals\u001b[0m\u001b[1;33m[\u001b[0m\u001b[1;34m'Campus'\u001b[0m\u001b[1;33m]\u001b[0m\u001b[1;33m\u001b[0m\u001b[0m\n\u001b[0m",
        "\u001b[1;32mC:\\Anaconda2\\lib\\site-packages\\pandas\\core\\frame.pyc\u001b[0m in \u001b[0;36m__getitem__\u001b[1;34m(self, key)\u001b[0m\n\u001b[0;32m   2001\u001b[0m             \u001b[1;31m# get column\u001b[0m\u001b[1;33m\u001b[0m\u001b[1;33m\u001b[0m\u001b[0m\n\u001b[0;32m   2002\u001b[0m             \u001b[1;32mif\u001b[0m \u001b[0mself\u001b[0m\u001b[1;33m.\u001b[0m\u001b[0mcolumns\u001b[0m\u001b[1;33m.\u001b[0m\u001b[0mis_unique\u001b[0m\u001b[1;33m:\u001b[0m\u001b[1;33m\u001b[0m\u001b[0m\n\u001b[1;32m-> 2003\u001b[1;33m                 \u001b[1;32mreturn\u001b[0m \u001b[0mself\u001b[0m\u001b[1;33m.\u001b[0m\u001b[0m_get_item_cache\u001b[0m\u001b[1;33m(\u001b[0m\u001b[0mkey\u001b[0m\u001b[1;33m)\u001b[0m\u001b[1;33m\u001b[0m\u001b[0m\n\u001b[0m\u001b[0;32m   2004\u001b[0m \u001b[1;33m\u001b[0m\u001b[0m\n\u001b[0;32m   2005\u001b[0m             \u001b[1;31m# duplicate columns\u001b[0m\u001b[1;33m\u001b[0m\u001b[1;33m\u001b[0m\u001b[0m\n",
        "\u001b[1;32mC:\\Anaconda2\\lib\\site-packages\\pandas\\core\\generic.pyc\u001b[0m in \u001b[0;36m_get_item_cache\u001b[1;34m(self, item)\u001b[0m\n\u001b[0;32m    665\u001b[0m             \u001b[1;32mreturn\u001b[0m \u001b[0mcache\u001b[0m\u001b[1;33m[\u001b[0m\u001b[0mitem\u001b[0m\u001b[1;33m]\u001b[0m\u001b[1;33m\u001b[0m\u001b[0m\n\u001b[0;32m    666\u001b[0m         \u001b[1;32mexcept\u001b[0m \u001b[0mException\u001b[0m\u001b[1;33m:\u001b[0m\u001b[1;33m\u001b[0m\u001b[0m\n\u001b[1;32m--> 667\u001b[1;33m             \u001b[0mvalues\u001b[0m \u001b[1;33m=\u001b[0m \u001b[0mself\u001b[0m\u001b[1;33m.\u001b[0m\u001b[0m_data\u001b[0m\u001b[1;33m.\u001b[0m\u001b[0mget\u001b[0m\u001b[1;33m(\u001b[0m\u001b[0mitem\u001b[0m\u001b[1;33m)\u001b[0m\u001b[1;33m\u001b[0m\u001b[0m\n\u001b[0m\u001b[0;32m    668\u001b[0m             \u001b[0mres\u001b[0m \u001b[1;33m=\u001b[0m \u001b[0mself\u001b[0m\u001b[1;33m.\u001b[0m\u001b[0m_box_item_values\u001b[0m\u001b[1;33m(\u001b[0m\u001b[0mitem\u001b[0m\u001b[1;33m,\u001b[0m \u001b[0mvalues\u001b[0m\u001b[1;33m)\u001b[0m\u001b[1;33m\u001b[0m\u001b[0m\n\u001b[0;32m    669\u001b[0m             \u001b[0mcache\u001b[0m\u001b[1;33m[\u001b[0m\u001b[0mitem\u001b[0m\u001b[1;33m]\u001b[0m \u001b[1;33m=\u001b[0m \u001b[0mres\u001b[0m\u001b[1;33m\u001b[0m\u001b[0m\n",
        "\u001b[1;32mC:\\Anaconda2\\lib\\site-packages\\pandas\\core\\internals.pyc\u001b[0m in \u001b[0;36mget\u001b[1;34m(self, item)\u001b[0m\n\u001b[0;32m   1653\u001b[0m     \u001b[1;32mdef\u001b[0m \u001b[0mget\u001b[0m\u001b[1;33m(\u001b[0m\u001b[0mself\u001b[0m\u001b[1;33m,\u001b[0m \u001b[0mitem\u001b[0m\u001b[1;33m)\u001b[0m\u001b[1;33m:\u001b[0m\u001b[1;33m\u001b[0m\u001b[0m\n\u001b[0;32m   1654\u001b[0m         \u001b[1;32mif\u001b[0m \u001b[0mself\u001b[0m\u001b[1;33m.\u001b[0m\u001b[0mitems\u001b[0m\u001b[1;33m.\u001b[0m\u001b[0mis_unique\u001b[0m\u001b[1;33m:\u001b[0m\u001b[1;33m\u001b[0m\u001b[0m\n\u001b[1;32m-> 1655\u001b[1;33m             \u001b[0m_\u001b[0m\u001b[1;33m,\u001b[0m \u001b[0mblock\u001b[0m \u001b[1;33m=\u001b[0m \u001b[0mself\u001b[0m\u001b[1;33m.\u001b[0m\u001b[0m_find_block\u001b[0m\u001b[1;33m(\u001b[0m\u001b[0mitem\u001b[0m\u001b[1;33m)\u001b[0m\u001b[1;33m\u001b[0m\u001b[0m\n\u001b[0m\u001b[0;32m   1656\u001b[0m             \u001b[1;32mreturn\u001b[0m \u001b[0mblock\u001b[0m\u001b[1;33m.\u001b[0m\u001b[0mget\u001b[0m\u001b[1;33m(\u001b[0m\u001b[0mitem\u001b[0m\u001b[1;33m)\u001b[0m\u001b[1;33m\u001b[0m\u001b[0m\n\u001b[0;32m   1657\u001b[0m         \u001b[1;32melse\u001b[0m\u001b[1;33m:\u001b[0m\u001b[1;33m\u001b[0m\u001b[0m\n",
        "\u001b[1;32mC:\\Anaconda2\\lib\\site-packages\\pandas\\core\\internals.pyc\u001b[0m in \u001b[0;36m_find_block\u001b[1;34m(self, item)\u001b[0m\n\u001b[0;32m   1933\u001b[0m \u001b[1;33m\u001b[0m\u001b[0m\n\u001b[0;32m   1934\u001b[0m     \u001b[1;32mdef\u001b[0m \u001b[0m_find_block\u001b[0m\u001b[1;33m(\u001b[0m\u001b[0mself\u001b[0m\u001b[1;33m,\u001b[0m \u001b[0mitem\u001b[0m\u001b[1;33m)\u001b[0m\u001b[1;33m:\u001b[0m\u001b[1;33m\u001b[0m\u001b[0m\n\u001b[1;32m-> 1935\u001b[1;33m         \u001b[0mself\u001b[0m\u001b[1;33m.\u001b[0m\u001b[0m_check_have\u001b[0m\u001b[1;33m(\u001b[0m\u001b[0mitem\u001b[0m\u001b[1;33m)\u001b[0m\u001b[1;33m\u001b[0m\u001b[0m\n\u001b[0m\u001b[0;32m   1936\u001b[0m         \u001b[1;32mfor\u001b[0m \u001b[0mi\u001b[0m\u001b[1;33m,\u001b[0m \u001b[0mblock\u001b[0m \u001b[1;32min\u001b[0m \u001b[0menumerate\u001b[0m\u001b[1;33m(\u001b[0m\u001b[0mself\u001b[0m\u001b[1;33m.\u001b[0m\u001b[0mblocks\u001b[0m\u001b[1;33m)\u001b[0m\u001b[1;33m:\u001b[0m\u001b[1;33m\u001b[0m\u001b[0m\n\u001b[0;32m   1937\u001b[0m             \u001b[1;32mif\u001b[0m \u001b[0mitem\u001b[0m \u001b[1;32min\u001b[0m \u001b[0mblock\u001b[0m\u001b[1;33m:\u001b[0m\u001b[1;33m\u001b[0m\u001b[0m\n",
        "\u001b[1;32mC:\\Anaconda2\\lib\\site-packages\\pandas\\core\\internals.pyc\u001b[0m in \u001b[0;36m_check_have\u001b[1;34m(self, item)\u001b[0m\n\u001b[0;32m   1940\u001b[0m     \u001b[1;32mdef\u001b[0m \u001b[0m_check_have\u001b[0m\u001b[1;33m(\u001b[0m\u001b[0mself\u001b[0m\u001b[1;33m,\u001b[0m \u001b[0mitem\u001b[0m\u001b[1;33m)\u001b[0m\u001b[1;33m:\u001b[0m\u001b[1;33m\u001b[0m\u001b[0m\n\u001b[0;32m   1941\u001b[0m         \u001b[1;32mif\u001b[0m \u001b[0mitem\u001b[0m \u001b[1;32mnot\u001b[0m \u001b[1;32min\u001b[0m \u001b[0mself\u001b[0m\u001b[1;33m.\u001b[0m\u001b[0mitems\u001b[0m\u001b[1;33m:\u001b[0m\u001b[1;33m\u001b[0m\u001b[0m\n\u001b[1;32m-> 1942\u001b[1;33m             \u001b[1;32mraise\u001b[0m \u001b[0mKeyError\u001b[0m\u001b[1;33m(\u001b[0m\u001b[1;34m'no item named %s'\u001b[0m \u001b[1;33m%\u001b[0m \u001b[0mcom\u001b[0m\u001b[1;33m.\u001b[0m\u001b[0mpprint_thing\u001b[0m\u001b[1;33m(\u001b[0m\u001b[0mitem\u001b[0m\u001b[1;33m)\u001b[0m\u001b[1;33m)\u001b[0m\u001b[1;33m\u001b[0m\u001b[0m\n\u001b[0m\u001b[0;32m   1943\u001b[0m \u001b[1;33m\u001b[0m\u001b[0m\n\u001b[0;32m   1944\u001b[0m     \u001b[1;32mdef\u001b[0m \u001b[0mreindex_axis\u001b[0m\u001b[1;33m(\u001b[0m\u001b[0mself\u001b[0m\u001b[1;33m,\u001b[0m \u001b[0mnew_axis\u001b[0m\u001b[1;33m,\u001b[0m \u001b[0mmethod\u001b[0m\u001b[1;33m=\u001b[0m\u001b[0mNone\u001b[0m\u001b[1;33m,\u001b[0m \u001b[0maxis\u001b[0m\u001b[1;33m=\u001b[0m\u001b[1;36m0\u001b[0m\u001b[1;33m,\u001b[0m \u001b[0mcopy\u001b[0m\u001b[1;33m=\u001b[0m\u001b[0mTrue\u001b[0m\u001b[1;33m)\u001b[0m\u001b[1;33m:\u001b[0m\u001b[1;33m\u001b[0m\u001b[0m\n",
        "\u001b[1;31mKeyError\u001b[0m: u'no item named Campus'"
       ]
      }
     ],
     "prompt_number": 63
    },
    {
     "cell_type": "code",
     "collapsed": false,
     "input": [
      "#Need to reset the index in order to mimick the dataframe we were working with \n",
      "#This now allows us to sort from most spend to least\n",
      "\n",
      "All_totals=All_totals.reset_index()\n",
      "All_totals.sort('Extended Price', ascending= False).head()"
     ],
     "language": "python",
     "metadata": {},
     "outputs": [
      {
       "html": [
        "<div style=\"max-height:1000px;max-width:1500px;overflow:auto;\">\n",
        "<table border=\"1\" class=\"dataframe\">\n",
        "  <thead>\n",
        "    <tr style=\"text-align: right;\">\n",
        "      <th></th>\n",
        "      <th>Campus</th>\n",
        "      <th>Supplier Name</th>\n",
        "      <th>Extended Price</th>\n",
        "      <th>Quantity</th>\n",
        "    </tr>\n",
        "  </thead>\n",
        "  <tbody>\n",
        "    <tr>\n",
        "      <th>2</th>\n",
        "      <td>  UCR</td>\n",
        "      <td>                dell</td>\n",
        "      <td> 112922.476562</td>\n",
        "      <td> 224</td>\n",
        "    </tr>\n",
        "    <tr>\n",
        "      <th>0</th>\n",
        "      <td>  UCB</td>\n",
        "      <td>  apple computer inc</td>\n",
        "      <td>  84899.445312</td>\n",
        "      <td> 154</td>\n",
        "    </tr>\n",
        "    <tr>\n",
        "      <th>1</th>\n",
        "      <td>  UCB</td>\n",
        "      <td>   dell marketing lp</td>\n",
        "      <td>  58162.777344</td>\n",
        "      <td> 130</td>\n",
        "    </tr>\n",
        "    <tr>\n",
        "      <th>5</th>\n",
        "      <td> UCSF</td>\n",
        "      <td> apple computer, inc</td>\n",
        "      <td>  54128.730469</td>\n",
        "      <td> 126</td>\n",
        "    </tr>\n",
        "    <tr>\n",
        "      <th>3</th>\n",
        "      <td> UCSD</td>\n",
        "      <td> apple computer, inc</td>\n",
        "      <td>  54128.730469</td>\n",
        "      <td> 126</td>\n",
        "    </tr>\n",
        "  </tbody>\n",
        "</table>\n",
        "</div>"
       ],
       "metadata": {},
       "output_type": "pyout",
       "prompt_number": 39,
       "text": [
        "  Campus        Supplier Name  Extended Price  Quantity\n",
        "2    UCR                 dell   112922.476562       224\n",
        "0    UCB   apple computer inc    84899.445312       154\n",
        "1    UCB    dell marketing lp    58162.777344       130\n",
        "5   UCSF  apple computer, inc    54128.730469       126\n",
        "3   UCSD  apple computer, inc    54128.730469       126"
       ]
      }
     ],
     "prompt_number": 39
    },
    {
     "cell_type": "code",
     "collapsed": false,
     "input": [
      "#It looks like UCI doesn't show any spend through Apple or Dell, let's look into this\n",
      "\n",
      "Irvine= All_filtered[All_filtered['Campus'] == 'UCI']\n",
      "\n",
      "Dell_App_Irv=Irvine[Irvine['Supplier Name'].isin(List2)]\n",
      "Dell_App_Irv.describe()"
     ],
     "language": "python",
     "metadata": {},
     "outputs": [
      {
       "html": [
        "<div style=\"max-height:1000px;max-width:1500px;overflow:auto;\">\n",
        "<table border=\"1\" class=\"dataframe\">\n",
        "  <thead>\n",
        "    <tr style=\"text-align: right;\">\n",
        "      <th></th>\n",
        "      <th>Quantity</th>\n",
        "      <th>Unit Price</th>\n",
        "      <th>Extended Price</th>\n",
        "    </tr>\n",
        "  </thead>\n",
        "  <tbody>\n",
        "    <tr>\n",
        "      <th>count</th>\n",
        "      <td>  0</td>\n",
        "      <td>  0</td>\n",
        "      <td>  0</td>\n",
        "    </tr>\n",
        "    <tr>\n",
        "      <th>mean</th>\n",
        "      <td>NaN</td>\n",
        "      <td>NaN</td>\n",
        "      <td>NaN</td>\n",
        "    </tr>\n",
        "    <tr>\n",
        "      <th>std</th>\n",
        "      <td>NaN</td>\n",
        "      <td>NaN</td>\n",
        "      <td>NaN</td>\n",
        "    </tr>\n",
        "    <tr>\n",
        "      <th>min</th>\n",
        "      <td>NaN</td>\n",
        "      <td>NaN</td>\n",
        "      <td>NaN</td>\n",
        "    </tr>\n",
        "    <tr>\n",
        "      <th>25%</th>\n",
        "      <td>NaN</td>\n",
        "      <td>NaN</td>\n",
        "      <td>NaN</td>\n",
        "    </tr>\n",
        "    <tr>\n",
        "      <th>50%</th>\n",
        "      <td>NaN</td>\n",
        "      <td>NaN</td>\n",
        "      <td>NaN</td>\n",
        "    </tr>\n",
        "    <tr>\n",
        "      <th>75%</th>\n",
        "      <td>NaN</td>\n",
        "      <td>NaN</td>\n",
        "      <td>NaN</td>\n",
        "    </tr>\n",
        "    <tr>\n",
        "      <th>max</th>\n",
        "      <td>NaN</td>\n",
        "      <td>NaN</td>\n",
        "      <td>NaN</td>\n",
        "    </tr>\n",
        "  </tbody>\n",
        "</table>\n",
        "</div>"
       ],
       "metadata": {},
       "output_type": "pyout",
       "prompt_number": 40,
       "text": [
        "       Quantity  Unit Price  Extended Price\n",
        "count         0           0               0\n",
        "mean        NaN         NaN             NaN\n",
        "std         NaN         NaN             NaN\n",
        "min         NaN         NaN             NaN\n",
        "25%         NaN         NaN             NaN\n",
        "50%         NaN         NaN             NaN\n",
        "75%         NaN         NaN             NaN\n",
        "max         NaN         NaN             NaN"
       ]
      }
     ],
     "prompt_number": 40
    },
    {
     "cell_type": "code",
     "collapsed": false,
     "input": [
      "#let's double check to see if Irvine has suppliers Apple or Dell\n",
      "irv_check=Irvine[Irvine['Supplier Name'].str.contains('.*dell.*')]\n",
      "irv_check"
     ],
     "language": "python",
     "metadata": {},
     "outputs": [
      {
       "html": [
        "<div style=\"max-height:1000px;max-width:1500px;overflow:auto;\">\n",
        "<table border=\"1\" class=\"dataframe\">\n",
        "  <tbody>\n",
        "    <tr>\n",
        "      <td>Int64Index([], dtype=int64)</td>\n",
        "      <td>Empty DataFrame</td>\n",
        "    </tr>\n",
        "  </tbody>\n",
        "</table>\n",
        "</div>"
       ],
       "metadata": {},
       "output_type": "pyout",
       "prompt_number": 41,
       "text": [
        "Empty DataFrame\n",
        "Columns: [Creation Date, PO #, Product Description, Supplier Name, Manufacturer, Quantity, Unit Price, Extended Price, Campus]\n",
        "Index: []"
       ]
      }
     ],
     "prompt_number": 41
    },
    {
     "cell_type": "code",
     "collapsed": false,
     "input": [
      "#Then who exactly is Irvine purchasing from??\n",
      "\n",
      "Irvine['Supplier Name'].unique()"
     ],
     "language": "python",
     "metadata": {},
     "outputs": [
      {
       "metadata": {},
       "output_type": "pyout",
       "prompt_number": 42,
       "text": [
        "array(['office max', 'spectrum chemicals & laboratory products',\n",
        "       'fisher scientific', 'office solutions, inc.',\n",
        "       'life technologies (invitrogen)', 'graybar electric company',\n",
        "       'cdwg', 'qiagen, inc.', 'bio-rad laboratories', 'grainger, inc.'], dtype=object)"
       ]
      }
     ],
     "prompt_number": 42
    },
    {
     "cell_type": "markdown",
     "metadata": {},
     "source": [
      "What if we wanted to visualize some of the above?"
     ]
    },
    {
     "cell_type": "code",
     "collapsed": false,
     "input": [
      "# This enables in-line plotting in the notebook\n",
      "%matplotlib inline"
     ],
     "language": "python",
     "metadata": {},
     "outputs": [],
     "prompt_number": 43
    },
    {
     "cell_type": "code",
     "collapsed": false,
     "input": [
      "Computer_Spend=pivot_table(Dell_Apple_All,rows=['Campus'], values=['Quantity','Extended Price'], aggfunc=np.sum)\n",
      "\n",
      "Computer_Spend.plot(kind='bar')"
     ],
     "language": "python",
     "metadata": {},
     "outputs": [
      {
       "metadata": {},
       "output_type": "pyout",
       "prompt_number": 68,
       "text": [
        "<matplotlib.axes.AxesSubplot at 0xd524c70>"
       ]
      },
      {
       "metadata": {},
       "output_type": "display_data",
       "png": "[encoded data removed]",
       "text": [
        "<matplotlib.figure.Figure at 0xa9895f0>"
       ]
      }
     ],
     "prompt_number": 68
    },
    {
     "cell_type": "code",
     "collapsed": false,
     "input": [],
     "language": "python",
     "metadata": {},
     "outputs": []
    }
   ],
   "metadata": {}
  }
 ]
}