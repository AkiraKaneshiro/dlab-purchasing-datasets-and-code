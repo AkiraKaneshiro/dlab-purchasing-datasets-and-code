{
 "metadata": {
  "name": ""
 },
 "nbformat": 3,
 "nbformat_minor": 0,
 "worksheets": [
  {
   "cells": [
    {
     "cell_type": "markdown",
     "metadata": {},
     "source": [
      "<Center><Font Face='Cambria Math'> <h1><Font Color=navy> Project: Identifying Blanket PO's"
     ]
    },
    {
     "cell_type": "markdown",
     "metadata": {},
     "source": [
      "<Font Face='Cambria Math'><Font Size=5><b> What is a Blanket PO? And why do we care?</b>\n",
      "<Font Size=4><p><b><ol>Definition:</b> Blanket PO's are purchase orders that are bought off of constantly, similar to an open tab off which you continually buy drinks.\n",
      "<ol> Each purchase order has a unique number to it that yields more information into that buy. A blanket purchase order will have one PO number, but several items bought off of it. Sometimes, this shows up as a single dollar amount.\n",
      "<p><b>Why do we care? </b>\n",
      "<p> With a blanket purchase order, there is no visibility into pricing, products, or services being bought. This is bad from the Procurement Department's point of view whose goal is to achieve savings and make sense out of the spend data.\n",
      "<p> <b> The Analysis:</b>\n",
      "<OL>\n",
      "<p> <li>Each PO has an invoice attached to it, so let's look at the invoice data.\n",
      "<p> <li>Compare the invoice amount to the current purchase order amount and the total purchase order amount to create features in the data\n",
      "  <p><p><p> <b>i.e</b> Count of Vouchers, Percent Used, Percent Remaining\n",
      "<p> <li>Create a training and testing set of data of clearly, manually labeled Blanket PO's\n",
      "<p> <li>Use logistic regression to predict blanket po's in the invoice data set from the training/testing set\n"
     ]
    },
    {
     "cell_type": "markdown",
     "metadata": {},
     "source": [
      "<h3><Font Face='Cambria Math'> Prepare Raw Invoice data for Logistic Regression Analysis"
     ]
    },
    {
     "cell_type": "code",
     "collapsed": false,
     "input": [
      "import pandas as pd\n",
      "import datetime\n",
      "import numpy as np\n",
      "from pandas import pivot_table\n",
      "\n",
      "from pandas import merge\n",
      "from pandas import DataFrame\n",
      "\n",
      "\n",
      "from __future__ import division # Make sure we don't get integer floor division!"
     ],
     "language": "python",
     "metadata": {},
     "outputs": [],
     "prompt_number": 2
    },
    {
     "cell_type": "code",
     "collapsed": false,
     "input": [
      "data = pd.read_csv('C:/Users/APerez2/Documents/Dlab/invoices.csv')"
     ],
     "language": "python",
     "metadata": {},
     "outputs": [
      {
       "output_type": "stream",
       "stream": "stderr",
       "text": [
        "/opt/anaconda/lib/python2.7/site-packages/pandas/io/parsers.py:1070: DtypeWarning: Columns (11) have mixed types. Specify dtype option on import or set low_memory=False.\n",
        "  data = self._reader.read(nrows)\n"
       ]
      }
     ],
     "prompt_number": 4
    },
    {
     "cell_type": "code",
     "collapsed": false,
     "input": [
      "##Give me everything that starts with a B\n",
      "#Only actual purchase orders start with a BB from UCB or B from UCSF\n",
      "\n",
      "data['PO #'] = data['PO #'].astype('str')\n",
      "data['PO #'] = data['PO #'].str.lower()\n",
      "data=data[data['PO #'].str.startswith('b')]"
     ],
     "language": "python",
     "metadata": {},
     "outputs": [],
     "prompt_number": 5
    },
    {
     "cell_type": "code",
     "collapsed": false,
     "input": [
      "##Change these values to be floats to filter and do calculations by them\n",
      "if data['Extended Price2'].dtype is np.dtype('O'):\n",
      "  data['Extended Price2'] = data['Extended Price2'].str.replace('$','').str.replace(',','').astype('float32')\n",
      "\n",
      "if data['Invoice Total'].dtype is np.dtype('O'):\n",
      "  data['Invoice Total'] = data['Invoice Total'].str.replace('$','').str.replace(',','').astype('float32')\n",
      "\n",
      "if data['Extended Price1'].dtype is np.dtype('O'):\n",
      "  data['Extended Price1'] = data['Extended Price1'].str.replace('$','').str.replace(',','').astype('float32')"
     ],
     "language": "python",
     "metadata": {},
     "outputs": [
      {
       "ename": "KeyError",
       "evalue": "u'no item named Extended Price2'",
       "output_type": "pyerr",
       "traceback": [
        "\u001b[0;31m---------------------------------------------------------------------------\u001b[0m\n\u001b[0;31mKeyError\u001b[0m                                  Traceback (most recent call last)",
        "\u001b[0;32m<ipython-input-6-78c5bda8cdf6>\u001b[0m in \u001b[0;36m<module>\u001b[0;34m()\u001b[0m\n\u001b[1;32m      1\u001b[0m \u001b[0;31m##Change these values to be floats to filter and do calculations by them\u001b[0m\u001b[0;34m\u001b[0m\u001b[0;34m\u001b[0m\u001b[0m\n\u001b[0;32m----> 2\u001b[0;31m \u001b[0;32mif\u001b[0m \u001b[0mdata\u001b[0m\u001b[0;34m[\u001b[0m\u001b[0;34m'Extended Price2'\u001b[0m\u001b[0;34m]\u001b[0m\u001b[0;34m.\u001b[0m\u001b[0mdtype\u001b[0m \u001b[0;32mis\u001b[0m \u001b[0mnp\u001b[0m\u001b[0;34m.\u001b[0m\u001b[0mdtype\u001b[0m\u001b[0;34m(\u001b[0m\u001b[0;34m'O'\u001b[0m\u001b[0;34m)\u001b[0m\u001b[0;34m:\u001b[0m\u001b[0;34m\u001b[0m\u001b[0m\n\u001b[0m\u001b[1;32m      3\u001b[0m   \u001b[0mdata\u001b[0m\u001b[0;34m[\u001b[0m\u001b[0;34m'Extended Price2'\u001b[0m\u001b[0;34m]\u001b[0m \u001b[0;34m=\u001b[0m \u001b[0mdata\u001b[0m\u001b[0;34m[\u001b[0m\u001b[0;34m'Extended Price2'\u001b[0m\u001b[0;34m]\u001b[0m\u001b[0;34m.\u001b[0m\u001b[0mstr\u001b[0m\u001b[0;34m.\u001b[0m\u001b[0mreplace\u001b[0m\u001b[0;34m(\u001b[0m\u001b[0;34m'$'\u001b[0m\u001b[0;34m,\u001b[0m\u001b[0;34m''\u001b[0m\u001b[0;34m)\u001b[0m\u001b[0;34m.\u001b[0m\u001b[0mstr\u001b[0m\u001b[0;34m.\u001b[0m\u001b[0mreplace\u001b[0m\u001b[0;34m(\u001b[0m\u001b[0;34m','\u001b[0m\u001b[0;34m,\u001b[0m\u001b[0;34m''\u001b[0m\u001b[0;34m)\u001b[0m\u001b[0;34m.\u001b[0m\u001b[0mastype\u001b[0m\u001b[0;34m(\u001b[0m\u001b[0;34m'float32'\u001b[0m\u001b[0;34m)\u001b[0m\u001b[0;34m\u001b[0m\u001b[0m\n\u001b[1;32m      4\u001b[0m \u001b[0;34m\u001b[0m\u001b[0m\n\u001b[1;32m      5\u001b[0m \u001b[0;32mif\u001b[0m \u001b[0mdata\u001b[0m\u001b[0;34m[\u001b[0m\u001b[0;34m'Invoice Total'\u001b[0m\u001b[0;34m]\u001b[0m\u001b[0;34m.\u001b[0m\u001b[0mdtype\u001b[0m \u001b[0;32mis\u001b[0m \u001b[0mnp\u001b[0m\u001b[0;34m.\u001b[0m\u001b[0mdtype\u001b[0m\u001b[0;34m(\u001b[0m\u001b[0;34m'O'\u001b[0m\u001b[0;34m)\u001b[0m\u001b[0;34m:\u001b[0m\u001b[0;34m\u001b[0m\u001b[0m\n",
        "\u001b[0;32m/opt/anaconda/lib/python2.7/site-packages/pandas/core/frame.pyc\u001b[0m in \u001b[0;36m__getitem__\u001b[0;34m(self, key)\u001b[0m\n\u001b[1;32m   1656\u001b[0m             \u001b[0;32mreturn\u001b[0m \u001b[0mself\u001b[0m\u001b[0;34m.\u001b[0m\u001b[0m_getitem_multilevel\u001b[0m\u001b[0;34m(\u001b[0m\u001b[0mkey\u001b[0m\u001b[0;34m)\u001b[0m\u001b[0;34m\u001b[0m\u001b[0m\n\u001b[1;32m   1657\u001b[0m         \u001b[0;32melse\u001b[0m\u001b[0;34m:\u001b[0m\u001b[0;34m\u001b[0m\u001b[0m\n\u001b[0;32m-> 1658\u001b[0;31m             \u001b[0;32mreturn\u001b[0m \u001b[0mself\u001b[0m\u001b[0;34m.\u001b[0m\u001b[0m_getitem_column\u001b[0m\u001b[0;34m(\u001b[0m\u001b[0mkey\u001b[0m\u001b[0;34m)\u001b[0m\u001b[0;34m\u001b[0m\u001b[0m\n\u001b[0m\u001b[1;32m   1659\u001b[0m \u001b[0;34m\u001b[0m\u001b[0m\n\u001b[1;32m   1660\u001b[0m     \u001b[0;32mdef\u001b[0m \u001b[0m_getitem_column\u001b[0m\u001b[0;34m(\u001b[0m\u001b[0mself\u001b[0m\u001b[0;34m,\u001b[0m \u001b[0mkey\u001b[0m\u001b[0;34m)\u001b[0m\u001b[0;34m:\u001b[0m\u001b[0;34m\u001b[0m\u001b[0m\n",
        "\u001b[0;32m/opt/anaconda/lib/python2.7/site-packages/pandas/core/frame.pyc\u001b[0m in \u001b[0;36m_getitem_column\u001b[0;34m(self, key)\u001b[0m\n\u001b[1;32m   1663\u001b[0m         \u001b[0;31m# get column\u001b[0m\u001b[0;34m\u001b[0m\u001b[0;34m\u001b[0m\u001b[0m\n\u001b[1;32m   1664\u001b[0m         \u001b[0;32mif\u001b[0m \u001b[0mself\u001b[0m\u001b[0;34m.\u001b[0m\u001b[0mcolumns\u001b[0m\u001b[0;34m.\u001b[0m\u001b[0mis_unique\u001b[0m\u001b[0;34m:\u001b[0m\u001b[0;34m\u001b[0m\u001b[0m\n\u001b[0;32m-> 1665\u001b[0;31m             \u001b[0;32mreturn\u001b[0m \u001b[0mself\u001b[0m\u001b[0;34m.\u001b[0m\u001b[0m_get_item_cache\u001b[0m\u001b[0;34m(\u001b[0m\u001b[0mkey\u001b[0m\u001b[0;34m)\u001b[0m\u001b[0;34m\u001b[0m\u001b[0m\n\u001b[0m\u001b[1;32m   1666\u001b[0m \u001b[0;34m\u001b[0m\u001b[0m\n\u001b[1;32m   1667\u001b[0m         \u001b[0;31m# duplicate columns & possible reduce dimensionaility\u001b[0m\u001b[0;34m\u001b[0m\u001b[0;34m\u001b[0m\u001b[0m\n",
        "\u001b[0;32m/opt/anaconda/lib/python2.7/site-packages/pandas/core/generic.pyc\u001b[0m in \u001b[0;36m_get_item_cache\u001b[0;34m(self, item)\u001b[0m\n\u001b[1;32m   1003\u001b[0m         \u001b[0mres\u001b[0m \u001b[0;34m=\u001b[0m \u001b[0mcache\u001b[0m\u001b[0;34m.\u001b[0m\u001b[0mget\u001b[0m\u001b[0;34m(\u001b[0m\u001b[0mitem\u001b[0m\u001b[0;34m)\u001b[0m\u001b[0;34m\u001b[0m\u001b[0m\n\u001b[1;32m   1004\u001b[0m         \u001b[0;32mif\u001b[0m \u001b[0mres\u001b[0m \u001b[0;32mis\u001b[0m \u001b[0mNone\u001b[0m\u001b[0;34m:\u001b[0m\u001b[0;34m\u001b[0m\u001b[0m\n\u001b[0;32m-> 1005\u001b[0;31m             \u001b[0mvalues\u001b[0m \u001b[0;34m=\u001b[0m \u001b[0mself\u001b[0m\u001b[0;34m.\u001b[0m\u001b[0m_data\u001b[0m\u001b[0;34m.\u001b[0m\u001b[0mget\u001b[0m\u001b[0;34m(\u001b[0m\u001b[0mitem\u001b[0m\u001b[0;34m)\u001b[0m\u001b[0;34m\u001b[0m\u001b[0m\n\u001b[0m\u001b[1;32m   1006\u001b[0m             \u001b[0mres\u001b[0m \u001b[0;34m=\u001b[0m \u001b[0mself\u001b[0m\u001b[0;34m.\u001b[0m\u001b[0m_box_item_values\u001b[0m\u001b[0;34m(\u001b[0m\u001b[0mitem\u001b[0m\u001b[0;34m,\u001b[0m \u001b[0mvalues\u001b[0m\u001b[0;34m)\u001b[0m\u001b[0;34m\u001b[0m\u001b[0m\n\u001b[1;32m   1007\u001b[0m             \u001b[0mcache\u001b[0m\u001b[0;34m[\u001b[0m\u001b[0mitem\u001b[0m\u001b[0;34m]\u001b[0m \u001b[0;34m=\u001b[0m \u001b[0mres\u001b[0m\u001b[0;34m\u001b[0m\u001b[0m\n",
        "\u001b[0;32m/opt/anaconda/lib/python2.7/site-packages/pandas/core/internals.pyc\u001b[0m in \u001b[0;36mget\u001b[0;34m(self, item)\u001b[0m\n\u001b[1;32m   2871\u001b[0m                 \u001b[0;32mreturn\u001b[0m \u001b[0mself\u001b[0m\u001b[0;34m.\u001b[0m\u001b[0mget_for_nan_indexer\u001b[0m\u001b[0;34m(\u001b[0m\u001b[0mindexer\u001b[0m\u001b[0;34m)\u001b[0m\u001b[0;34m\u001b[0m\u001b[0m\n\u001b[1;32m   2872\u001b[0m \u001b[0;34m\u001b[0m\u001b[0m\n\u001b[0;32m-> 2873\u001b[0;31m             \u001b[0m_\u001b[0m\u001b[0;34m,\u001b[0m \u001b[0mblock\u001b[0m \u001b[0;34m=\u001b[0m \u001b[0mself\u001b[0m\u001b[0;34m.\u001b[0m\u001b[0m_find_block\u001b[0m\u001b[0;34m(\u001b[0m\u001b[0mitem\u001b[0m\u001b[0;34m)\u001b[0m\u001b[0;34m\u001b[0m\u001b[0m\n\u001b[0m\u001b[1;32m   2874\u001b[0m             \u001b[0;32mreturn\u001b[0m \u001b[0mblock\u001b[0m\u001b[0;34m.\u001b[0m\u001b[0mget\u001b[0m\u001b[0;34m(\u001b[0m\u001b[0mitem\u001b[0m\u001b[0;34m)\u001b[0m\u001b[0;34m\u001b[0m\u001b[0m\n\u001b[1;32m   2875\u001b[0m         \u001b[0;32melse\u001b[0m\u001b[0;34m:\u001b[0m\u001b[0;34m\u001b[0m\u001b[0m\n",
        "\u001b[0;32m/opt/anaconda/lib/python2.7/site-packages/pandas/core/internals.pyc\u001b[0m in \u001b[0;36m_find_block\u001b[0;34m(self, item)\u001b[0m\n\u001b[1;32m   3183\u001b[0m \u001b[0;34m\u001b[0m\u001b[0m\n\u001b[1;32m   3184\u001b[0m     \u001b[0;32mdef\u001b[0m \u001b[0m_find_block\u001b[0m\u001b[0;34m(\u001b[0m\u001b[0mself\u001b[0m\u001b[0;34m,\u001b[0m \u001b[0mitem\u001b[0m\u001b[0;34m)\u001b[0m\u001b[0;34m:\u001b[0m\u001b[0;34m\u001b[0m\u001b[0m\n\u001b[0;32m-> 3185\u001b[0;31m         \u001b[0mself\u001b[0m\u001b[0;34m.\u001b[0m\u001b[0m_check_have\u001b[0m\u001b[0;34m(\u001b[0m\u001b[0mitem\u001b[0m\u001b[0;34m)\u001b[0m\u001b[0;34m\u001b[0m\u001b[0m\n\u001b[0m\u001b[1;32m   3186\u001b[0m         \u001b[0;32mfor\u001b[0m \u001b[0mi\u001b[0m\u001b[0;34m,\u001b[0m \u001b[0mblock\u001b[0m \u001b[0;32min\u001b[0m \u001b[0menumerate\u001b[0m\u001b[0;34m(\u001b[0m\u001b[0mself\u001b[0m\u001b[0;34m.\u001b[0m\u001b[0mblocks\u001b[0m\u001b[0;34m)\u001b[0m\u001b[0;34m:\u001b[0m\u001b[0;34m\u001b[0m\u001b[0m\n\u001b[1;32m   3187\u001b[0m             \u001b[0;32mif\u001b[0m \u001b[0mitem\u001b[0m \u001b[0;32min\u001b[0m \u001b[0mblock\u001b[0m\u001b[0;34m:\u001b[0m\u001b[0;34m\u001b[0m\u001b[0m\n",
        "\u001b[0;32m/opt/anaconda/lib/python2.7/site-packages/pandas/core/internals.pyc\u001b[0m in \u001b[0;36m_check_have\u001b[0;34m(self, item)\u001b[0m\n\u001b[1;32m   3190\u001b[0m     \u001b[0;32mdef\u001b[0m \u001b[0m_check_have\u001b[0m\u001b[0;34m(\u001b[0m\u001b[0mself\u001b[0m\u001b[0;34m,\u001b[0m \u001b[0mitem\u001b[0m\u001b[0;34m)\u001b[0m\u001b[0;34m:\u001b[0m\u001b[0;34m\u001b[0m\u001b[0m\n\u001b[1;32m   3191\u001b[0m         \u001b[0;32mif\u001b[0m \u001b[0mitem\u001b[0m \u001b[0;32mnot\u001b[0m \u001b[0;32min\u001b[0m \u001b[0mself\u001b[0m\u001b[0;34m.\u001b[0m\u001b[0mitems\u001b[0m\u001b[0;34m:\u001b[0m\u001b[0;34m\u001b[0m\u001b[0m\n\u001b[0;32m-> 3192\u001b[0;31m             \u001b[0;32mraise\u001b[0m \u001b[0mKeyError\u001b[0m\u001b[0;34m(\u001b[0m\u001b[0;34m'no item named %s'\u001b[0m \u001b[0;34m%\u001b[0m \u001b[0mcom\u001b[0m\u001b[0;34m.\u001b[0m\u001b[0mpprint_thing\u001b[0m\u001b[0;34m(\u001b[0m\u001b[0mitem\u001b[0m\u001b[0;34m)\u001b[0m\u001b[0;34m)\u001b[0m\u001b[0;34m\u001b[0m\u001b[0m\n\u001b[0m\u001b[1;32m   3193\u001b[0m \u001b[0;34m\u001b[0m\u001b[0m\n\u001b[1;32m   3194\u001b[0m     def reindex_axis(self, new_axis, indexer=None, method=None, axis=0,\n",
        "\u001b[0;31mKeyError\u001b[0m: u'no item named Extended Price2'"
       ]
      }
     ],
     "prompt_number": 6
    },
    {
     "cell_type": "code",
     "collapsed": false,
     "input": [
      "#Don't want Rejected Vouchers nor 0 or negative Ext. Prices\n",
      "data=data[data['Voucher Status'] != 'Rejected']\n",
      "\n",
      "\n",
      "#Negative Ext1. Price means its a rebate...\n",
      "data=data[data['Extended Price1'] > 0]"
     ],
     "language": "python",
     "metadata": {},
     "outputs": [],
     "prompt_number": 5
    },
    {
     "cell_type": "code",
     "collapsed": false,
     "input": [
      "#Don't want items with Item Type as SQ Hosted or NonCatalog\n",
      "data=data[data['Item Type'] != 'SQ Hosted Product']\n",
      "data=data[data['Item Type'] != 'Contract NonCatalogItem']"
     ],
     "language": "python",
     "metadata": {},
     "outputs": [],
     "prompt_number": 6
    },
    {
     "cell_type": "code",
     "collapsed": false,
     "input": [
      "#Also, don't want Credit Memo\n",
      "#Credits will mess up the data, only want pure vouchers\n",
      "data=data[data['Invoice Type'] != 'Credit memo']"
     ],
     "language": "python",
     "metadata": {},
     "outputs": [],
     "prompt_number": 7
    },
    {
     "cell_type": "code",
     "collapsed": false,
     "input": [
      "#There is no Ext. Price 2 where there is a blank Line Status, also don't want Cancelled Lines so only want Accepted\n",
      "data=data[data['Line Status'] == 'Approved']"
     ],
     "language": "python",
     "metadata": {},
     "outputs": [],
     "prompt_number": 8
    },
    {
     "cell_type": "code",
     "collapsed": false,
     "input": [
      "#Create Percent of usage in the data\n",
      "data['Percent of Usage'] = data['Extended Price1']/data['Extended Price2']"
     ],
     "language": "python",
     "metadata": {},
     "outputs": [],
     "prompt_number": 9
    },
    {
     "cell_type": "code",
     "collapsed": false,
     "input": [
      "#Now you want to sum up the totals per po and po Line\n",
      "#Excludes Repeated Voucher Totals for PO since this is a problem in the data\n",
      "#This way we don't sum up the same value n times giving a false overvalued total\n",
      "data = data.sort(['PO #', 'Invoice Total'], ascending = [1,1])\n",
      "data['Invoice Total']=data['Invoice Total'].loc[data['Invoice Total'].shift(1) != data['Invoice Total']]\n",
      "data['Invoice Total']= data['Invoice Total'].fillna(0)\n",
      "\n",
      "data = data.sort(['PO #', 'Extended Price2'], ascending = [1,1])\n",
      "data['Extended Price2']=data['Extended Price2'].loc[data['Extended Price2'].shift(1) != data['Extended Price2']]\n",
      "data['Extended Price2']= data['Extended Price2'].fillna(0)\n",
      "\n",
      "\n",
      "data = data.sort(['PO #', 'Extended Price1'], ascending = [1,1])\n",
      "data['Extended Price1']=data['Extended Price1'].loc[data['Extended Price1'].shift(1) != data['Extended Price1']]\n",
      "data['Extended Price1']= data['Extended Price1'].fillna(0)"
     ],
     "language": "python",
     "metadata": {},
     "outputs": [],
     "prompt_number": 10
    },
    {
     "cell_type": "code",
     "collapsed": false,
     "input": [
      "#Pivot it out to sum it up\n",
      "pivot_sums = pivot_table(data, rows=['PO #','PO Line #'], values = ['Invoice Total','Extended Price1','Extended Price2','Percent of Usage'], aggfunc = np.sum)\n",
      "pivot_sums= pivot_sums[~pivot_sums['Extended Price1'].isnull()]\n",
      "pivot_sums= pivot_sums[~pivot_sums['Invoice Total'].isnull()]\n",
      "pivot_sums= pivot_sums[~pivot_sums['Extended Price2'].isnull()]\n",
      "pivot_sums = pivot_sums.reset_index()"
     ],
     "language": "python",
     "metadata": {},
     "outputs": [],
     "prompt_number": 11
    },
    {
     "cell_type": "code",
     "collapsed": false,
     "input": [
      "\n",
      "#Create a separate pivot to count the unique vouchers\n",
      "pivot_vouchers= pivot_table(data, rows=['PO #','PO Line #'], values = ['Voucher #'], aggfunc=lambda x: len(x.unique()))\n",
      "pivot_vouchers = DataFrame(pivot_vouchers)\n",
      "pivot_vouchers.columns =['Count of Vouchers']\n",
      "pivot_vouchers = pivot_vouchers.reset_index() \n",
      "pivot_vouchers = pivot_vouchers[~pivot_vouchers['Count of Vouchers'].isnull()]"
     ],
     "language": "python",
     "metadata": {},
     "outputs": [],
     "prompt_number": 12
    },
    {
     "cell_type": "code",
     "collapsed": false,
     "input": [
      "analysis = pivot_sums\n",
      "analysis_all=merge(analysis, pivot_vouchers, left_on = ['PO #','PO Line #'], right_on=['PO #','PO Line #'], how= 'left')\n",
      "\n",
      "analysis_all= analysis_all.rename(columns ={'Extended Price1':'Sum of Ext. Price 1','Extended Price2':'Sum of Ext.2'})\n",
      "\n",
      "\n",
      "analysis_all['Total Percent Remaining'] = 1-analysis_all['Percent of Usage']"
     ],
     "language": "python",
     "metadata": {},
     "outputs": [],
     "prompt_number": 13
    },
    {
     "cell_type": "code",
     "collapsed": false,
     "input": [
      "##Add the relevant invoice data back to the cleaned up data\n",
      "\n",
      "supplier = data.loc[:,['PO #','PO Line #','Invoice System Creation Date','Supplier Name','Product Description','Department Name','ShipTo Contact 1','Invoice Owner','Category Level 1','Campus']]\n",
      "supplier = supplier.drop_duplicates(['PO #','PO Line #'])\n",
      "\n",
      "analysis_all = merge(analysis_all,supplier, left_on = ['PO #','PO Line #'],right_on = ['PO #','PO Line #'], how='left')"
     ],
     "language": "python",
     "metadata": {},
     "outputs": [],
     "prompt_number": 14
    },
    {
     "cell_type": "code",
     "collapsed": false,
     "input": [
      "analysis_all.sort('Total Percent Remaining', ascending = False).head()"
     ],
     "language": "python",
     "metadata": {},
     "outputs": [
      {
       "html": [
        "<div style=\"max-height:1000px;max-width:1500px;overflow:auto;\">\n",
        "<table border=\"1\" class=\"dataframe\">\n",
        "  <thead>\n",
        "    <tr style=\"text-align: right;\">\n",
        "      <th></th>\n",
        "      <th>PO #</th>\n",
        "      <th>PO Line #</th>\n",
        "      <th>Sum of Ext. Price 1</th>\n",
        "      <th>Sum of Ext.2</th>\n",
        "      <th>Invoice Total</th>\n",
        "      <th>Percent of Usage</th>\n",
        "      <th>Count of Vouchers</th>\n",
        "      <th>Total Percent Remaining</th>\n",
        "      <th>Invoice System Creation Date</th>\n",
        "      <th>Supplier Name</th>\n",
        "      <th>Product Description</th>\n",
        "      <th>Department Name</th>\n",
        "      <th>ShipTo Contact 1</th>\n",
        "      <th>Invoice Owner</th>\n",
        "      <th>Category Level 1</th>\n",
        "      <th>Campus</th>\n",
        "    </tr>\n",
        "  </thead>\n",
        "  <tbody>\n",
        "    <tr>\n",
        "      <th>1484</th>\n",
        "      <td> bb00212536</td>\n",
        "      <td> 2</td>\n",
        "      <td>  82.34</td>\n",
        "      <td>  830000</td>\n",
        "      <td>  479.87</td>\n",
        "      <td> 0.000099</td>\n",
        "      <td> 1</td>\n",
        "      <td> 0.999901</td>\n",
        "      <td>  8/7/2013</td>\n",
        "      <td> BIRITE FOODSERVICE DISTRIBUTORS</td>\n",
        "      <td>          Foothill - Food and non-taxable supplies</td>\n",
        "      <td>                                     NaN</td>\n",
        "      <td> Contact Line 1 Brian Walker</td>\n",
        "      <td>         William Buster</td>\n",
        "      <td> NaN</td>\n",
        "      <td>  UCB</td>\n",
        "    </tr>\n",
        "    <tr>\n",
        "      <th>1222</th>\n",
        "      <td> bb00147112</td>\n",
        "      <td> 7</td>\n",
        "      <td>   9.50</td>\n",
        "      <td>   70000</td>\n",
        "      <td>    9.50</td>\n",
        "      <td> 0.000136</td>\n",
        "      <td> 1</td>\n",
        "      <td> 0.999864</td>\n",
        "      <td> 6/17/2013</td>\n",
        "      <td>           THE BOX LUNCH COMPANY</td>\n",
        "      <td>                                       Golden Bear</td>\n",
        "      <td>                                     NaN</td>\n",
        "      <td>          Attn: Sunil Chacko</td>\n",
        "      <td> Rosabelle L. SYLVESTER</td>\n",
        "      <td> NaN</td>\n",
        "      <td>  UCB</td>\n",
        "    </tr>\n",
        "    <tr>\n",
        "      <th>5   </th>\n",
        "      <td> b000032795</td>\n",
        "      <td> 1</td>\n",
        "      <td> 420.00</td>\n",
        "      <td> 2250650</td>\n",
        "      <td> 1020.28</td>\n",
        "      <td> 0.000187</td>\n",
        "      <td> 1</td>\n",
        "      <td> 0.999813</td>\n",
        "      <td>  4/4/2013</td>\n",
        "      <td>       BAY AREA BUS REPAIR, INC.</td>\n",
        "      <td> To renew P2P Maintenance PO#341535, see attach...</td>\n",
        "      <td> TRANSPORTATION ADMIN/PASS-THRU (240812)</td>\n",
        "      <td>           Attn: Peter Davis</td>\n",
        "      <td>             NELSON LUM</td>\n",
        "      <td> NaN</td>\n",
        "      <td> UCSF</td>\n",
        "    </tr>\n",
        "    <tr>\n",
        "      <th>1513</th>\n",
        "      <td> bb00215657</td>\n",
        "      <td> 1</td>\n",
        "      <td> 118.86</td>\n",
        "      <td>  634000</td>\n",
        "      <td>  118.86</td>\n",
        "      <td> 0.000187</td>\n",
        "      <td> 1</td>\n",
        "      <td> 0.999813</td>\n",
        "      <td>  8/5/2013</td>\n",
        "      <td> BIRITE FOODSERVICE DISTRIBUTORS</td>\n",
        "      <td>                 GBC-Food and Non-Taxable Supplies</td>\n",
        "      <td>                                     NaN</td>\n",
        "      <td>      Attn: GOLDEN BEAR CAFE</td>\n",
        "      <td>          Florence Fung</td>\n",
        "      <td> NaN</td>\n",
        "      <td>  UCB</td>\n",
        "    </tr>\n",
        "    <tr>\n",
        "      <th>1047</th>\n",
        "      <td> bb00108198</td>\n",
        "      <td> 6</td>\n",
        "      <td>  39.80</td>\n",
        "      <td>  153000</td>\n",
        "      <td>   39.80</td>\n",
        "      <td> 0.000260</td>\n",
        "      <td> 1</td>\n",
        "      <td> 0.999740</td>\n",
        "      <td> 6/14/2013</td>\n",
        "      <td>         SAN FRANCISCO SPECIALTY</td>\n",
        "      <td>                                          FOOTHILL</td>\n",
        "      <td>                                     NaN</td>\n",
        "      <td>                       Attn:</td>\n",
        "      <td> Rosabelle L. SYLVESTER</td>\n",
        "      <td> NaN</td>\n",
        "      <td>  UCB</td>\n",
        "    </tr>\n",
        "  </tbody>\n",
        "</table>\n",
        "</div>"
       ],
       "metadata": {},
       "output_type": "pyout",
       "prompt_number": 15,
       "text": [
        "            PO #  PO Line #  Sum of Ext. Price 1  Sum of Ext.2  Invoice Total  \\\n",
        "1484  bb00212536          2                82.34        830000         479.87   \n",
        "1222  bb00147112          7                 9.50         70000           9.50   \n",
        "5     b000032795          1               420.00       2250650        1020.28   \n",
        "1513  bb00215657          1               118.86        634000         118.86   \n",
        "1047  bb00108198          6                39.80        153000          39.80   \n",
        "\n",
        "      Percent of Usage  Count of Vouchers  Total Percent Remaining  \\\n",
        "1484          0.000099                  1                 0.999901   \n",
        "1222          0.000136                  1                 0.999864   \n",
        "5             0.000187                  1                 0.999813   \n",
        "1513          0.000187                  1                 0.999813   \n",
        "1047          0.000260                  1                 0.999740   \n",
        "\n",
        "     Invoice System Creation Date                    Supplier Name  \\\n",
        "1484                     8/7/2013  BIRITE FOODSERVICE DISTRIBUTORS   \n",
        "1222                    6/17/2013            THE BOX LUNCH COMPANY   \n",
        "5                        4/4/2013        BAY AREA BUS REPAIR, INC.   \n",
        "1513                     8/5/2013  BIRITE FOODSERVICE DISTRIBUTORS   \n",
        "1047                    6/14/2013          SAN FRANCISCO SPECIALTY   \n",
        "\n",
        "                                    Product Description  \\\n",
        "1484           Foothill - Food and non-taxable supplies   \n",
        "1222                                        Golden Bear   \n",
        "5     To renew P2P Maintenance PO#341535, see attach...   \n",
        "1513                  GBC-Food and Non-Taxable Supplies   \n",
        "1047                                           FOOTHILL   \n",
        "\n",
        "                              Department Name             ShipTo Contact 1  \\\n",
        "1484                                      NaN  Contact Line 1 Brian Walker   \n",
        "1222                                      NaN           Attn: Sunil Chacko   \n",
        "5     TRANSPORTATION ADMIN/PASS-THRU (240812)            Attn: Peter Davis   \n",
        "1513                                      NaN       Attn: GOLDEN BEAR CAFE   \n",
        "1047                                      NaN                        Attn:   \n",
        "\n",
        "               Invoice Owner Category Level 1 Campus  \n",
        "1484          William Buster              NaN    UCB  \n",
        "1222  Rosabelle L. SYLVESTER              NaN    UCB  \n",
        "5                 NELSON LUM              NaN   UCSF  \n",
        "1513           Florence Fung              NaN    UCB  \n",
        "1047  Rosabelle L. SYLVESTER              NaN    UCB  "
       ]
      }
     ],
     "prompt_number": 15
    },
    {
     "cell_type": "code",
     "collapsed": false,
     "input": [
      "analysis_all.to_csv('C:/Users/APerez2/Documents/Dlab/Invoices with features.csv',index = False)"
     ],
     "language": "python",
     "metadata": {},
     "outputs": [],
     "prompt_number": 17
    },
    {
     "cell_type": "markdown",
     "metadata": {},
     "source": [
      "<b><Font Face='Cambria Math'><h2> Use prepared Data for Logistic Regression"
     ]
    },
    {
     "cell_type": "code",
     "collapsed": false,
     "input": [
      "import sklearn \n",
      "from sklearn import linear_model\n",
      "from pandas import *\n",
      "import numpy as np\n",
      "from numpy import random\n",
      "from sklearn.cross_validation import train_test_split"
     ],
     "language": "python",
     "metadata": {},
     "outputs": [],
     "prompt_number": 15
    },
    {
     "cell_type": "code",
     "collapsed": false,
     "input": [
      "#Manually entered 1's and 0's for blankets and non blankets\n",
      "invoices= pd.read_csv('C:/Users/APerez2/Documents/Dlab/Invoice Data with Blanket.csv')\n",
      "invoices =invoices.reset_index()"
     ],
     "language": "python",
     "metadata": {},
     "outputs": [],
     "prompt_number": 16
    },
    {
     "cell_type": "code",
     "collapsed": false,
     "input": [
      "invoices_labeled = invoices[-invoices['Blanket?'].isnull()]\n",
      "invoices_not_labeled = invoices[invoices['Blanket?'].isnull()]"
     ],
     "language": "python",
     "metadata": {},
     "outputs": [],
     "prompt_number": 17
    },
    {
     "cell_type": "code",
     "collapsed": false,
     "input": [
      "invoices_train =invoices_labeled.ix[np.random.choice(invoices_labeled.index, 400)]\n",
      "#invoices_train=invoices_train.reset_index()\n",
      "\n",
      "invoices_test = invoices_labeled[~invoices_labeled['index'].isin(invoices_train['index'])]\n"
     ],
     "language": "python",
     "metadata": {},
     "outputs": [],
     "prompt_number": 18
    },
    {
     "cell_type": "code",
     "collapsed": false,
     "input": [
      "X_train,y_train = invoices_train[['Count of Vouchers','Total Percent Remaining']],invoices_train['Blanket?']\n",
      "X_test,y_test = invoices_test[['Count of Vouchers','Total Percent Remaining']],invoices_test['Blanket?']"
     ],
     "language": "python",
     "metadata": {},
     "outputs": [],
     "prompt_number": 19
    },
    {
     "cell_type": "code",
     "collapsed": false,
     "input": [
      "logreg=linear_model.LogisticRegression()\n",
      "\n",
      "logreg.fit(X_train,y_train)"
     ],
     "language": "python",
     "metadata": {},
     "outputs": [
      {
       "metadata": {},
       "output_type": "pyout",
       "prompt_number": 20,
       "text": [
        "LogisticRegression(C=1.0, class_weight=None, dual=False, fit_intercept=True,\n",
        "          intercept_scaling=1, penalty='l2', random_state=None, tol=0.0001)"
       ]
      }
     ],
     "prompt_number": 20
    },
    {
     "cell_type": "code",
     "collapsed": false,
     "input": [
      "logreg.coef_"
     ],
     "language": "python",
     "metadata": {},
     "outputs": [
      {
       "metadata": {},
       "output_type": "pyout",
       "prompt_number": 21,
       "text": [
        "array([[ 1.04482874,  4.00437636]])"
       ]
      }
     ],
     "prompt_number": 21
    },
    {
     "cell_type": "code",
     "collapsed": false,
     "input": [
      "logreg.intercept_"
     ],
     "language": "python",
     "metadata": {},
     "outputs": [
      {
       "metadata": {},
       "output_type": "pyout",
       "prompt_number": 22,
       "text": [
        "array([-3.6300001])"
       ]
      }
     ],
     "prompt_number": 22
    },
    {
     "cell_type": "code",
     "collapsed": false,
     "input": [
      "print\"The parametered are\" \n",
      "print logreg.get_params()\n",
      "\n",
      "invoices_test['Predicted Value']=logreg.predict(X_test)\n",
      "invoices_test=DataFrame(invoices_test)\n",
      "\n",
      "print \"\\n\\nThe score is\"\n",
      "print logreg.score(X_test,y_test)\n",
      "\n",
      "from sklearn.metrics import confusion_matrix\n",
      "y_true= y_test\n",
      "y_predict = invoices_test['Predicted Value']\n",
      "\n",
      "confusion_matrix(y_true, y_predict)"
     ],
     "language": "python",
     "metadata": {},
     "outputs": [
      {
       "output_type": "stream",
       "stream": "stdout",
       "text": [
        "The parametered are\n",
        "{'C': 1.0, 'intercept_scaling': 1, 'fit_intercept': True, 'penalty': 'l2', 'random_state': None, 'dual': False, 'tol': 0.0001, 'class_weight': None}\n",
        "\n",
        "\n",
        "The score is\n",
        "0.947194719472\n"
       ]
      },
      {
       "metadata": {},
       "output_type": "pyout",
       "prompt_number": 23,
       "text": [
        "array([[143,   5],\n",
        "       [ 11, 144]])"
       ]
      }
     ],
     "prompt_number": 23
    },
    {
     "cell_type": "code",
     "collapsed": false,
     "input": [
      "from sklearn.pipeline import Pipeline\n",
      "\n",
      "from sklearn.linear_model import LogisticRegression\n",
      "from sklearn.grid_search import GridSearchCV\n",
      "from time import time\n",
      "\n",
      "\n",
      "parameters = {\n",
      "      # uncommenting more parameters will give better exploring power but will\n",
      "      # increase processing time in a combinatorial way\n",
      "      'model__C':[0.01, 0.1, 1, 10, 1005,2000],\n",
      " \n",
      "      'model__dual': [False],\n",
      "\n",
      "      'model__intercept_scaling': [1],\n",
      "      'model__penalty': ['l1', 'l2'],\n",
      "      'model__fit_intercept':[True,False],\n",
      "      'model__class_weight':['auto']\n",
      "            }\n",
      "            \n",
      "pipeline = Pipeline([('model', LogisticRegression())])\n",
      "\n",
      "grid_search = GridSearchCV(pipeline, parameters, verbose=1, n_jobs=2,cv=4)\n",
      "\n",
      "\n",
      "if __name__ == '__main__':\n",
      "    print \"Performing grid search...\"\n",
      "    print \"pipeline:\", [name for name, _ in pipeline.steps]\n",
      "    print \"parameters:\"\n",
      "    print(parameters)\n",
      "    t0 = time()\n",
      "    grid_search.fit(X_test,y_test)\n",
      "    print \"done in %0.3fs\" % (time() - t0)\n",
      "    print\n",
      "    print \"Best score: %0.5f\" % grid_search.best_score_\n",
      "    print \"Best parameters set:\"\n",
      "    best_parameters = grid_search.best_estimator_.get_params()\n",
      "    for param_name in sorted(parameters.keys()):\n",
      "        print \"\\t%s: %r\" % (param_name, best_parameters[param_name])"
     ],
     "language": "python",
     "metadata": {},
     "outputs": [
      {
       "output_type": "stream",
       "stream": "stderr",
       "text": [
        "[Parallel(n_jobs=2)]: Done   1 jobs       | elapsed:    0.9s\n",
        "[Parallel(n_jobs=2)]: Done  50 jobs       | elapsed:    1.8s\n",
        "[Parallel(n_jobs=2)]: Done  94 out of  96 | elapsed:    2.0s remaining:    0.0s\n",
        "[Parallel(n_jobs=2)]: Done  96 out of  96 | elapsed:    2.0s finished\n"
       ]
      },
      {
       "output_type": "stream",
       "stream": "stdout",
       "text": [
        "Performing grid search...\n",
        "pipeline: ['model']\n",
        "parameters:\n",
        "{'model__C': [0.01, 0.1, 1, 10, 1005, 2000], 'model__class_weight': ['auto'], 'model__fit_intercept': [True, False], 'model__intercept_scaling': [1], 'model__penalty': ['l1', 'l2'], 'model__dual': [False]}\n",
        "Fitting 4 folds for each of 24 candidates, totalling 96 fits\n",
        "done in 2.335s"
       ]
      },
      {
       "output_type": "stream",
       "stream": "stdout",
       "text": [
        "\n",
        "\n",
        "Best score: 0.94389\n",
        "Best parameters set:\n",
        "\tmodel__C: 10\n",
        "\tmodel__class_weight: 'auto'\n",
        "\tmodel__dual: False\n",
        "\tmodel__fit_intercept: True\n",
        "\tmodel__intercept_scaling: 1\n",
        "\tmodel__penalty: 'l1'\n"
       ]
      }
     ],
     "prompt_number": 24
    },
    {
     "cell_type": "code",
     "collapsed": false,
     "input": [
      "X=invoices[['Count of Vouchers','Total Percent Remaining']]\n",
      "invoices['Predicted Value']=logreg.predict(X)"
     ],
     "language": "python",
     "metadata": {},
     "outputs": [],
     "prompt_number": 74
    },
    {
     "cell_type": "code",
     "collapsed": false,
     "input": [
      "\n",
      "invoices.to_csv('C:/Users/alexisperez/Documents/Invoices/All with predicted values.csv',index=False)"
     ],
     "language": "python",
     "metadata": {},
     "outputs": []
    }
   ],
   "metadata": {}
  }
 ]
}